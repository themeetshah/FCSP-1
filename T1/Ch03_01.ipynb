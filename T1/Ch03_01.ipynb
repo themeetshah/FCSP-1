{
 "cells": [
  {
   "cell_type": "markdown",
   "metadata": {},
   "source": [
    "# Functions"
   ]
  },
  {
   "cell_type": "code",
   "execution_count": 4,
   "metadata": {},
   "outputs": [
    {
     "name": "stdout",
     "output_type": "stream",
     "text": [
      "<function greet at 0x000002C573309E50>\n",
      "Hello\n"
     ]
    }
   ],
   "source": [
    "def greet():\n",
    "    print(\"Hello\")\n",
    "print(greet)\n",
    "greet()"
   ]
  },
  {
   "cell_type": "code",
   "execution_count": 5,
   "metadata": {},
   "outputs": [
    {
     "name": "stdout",
     "output_type": "stream",
     "text": [
      "Hello MS\n"
     ]
    }
   ],
   "source": [
    "def greet(name):\n",
    "    print(f\"Hello {name}\")\n",
    "\n",
    "greet(\"MS\")"
   ]
  },
  {
   "cell_type": "markdown",
   "metadata": {},
   "source": [
    "## Function Specification"
   ]
  },
  {
   "cell_type": "code",
   "execution_count": 16,
   "metadata": {},
   "outputs": [
    {
     "name": "stdout",
     "output_type": "stream",
     "text": [
      "\n",
      "    Description: It returns area of the circle\n",
      "    Parameter: Radius as float\n",
      "    Returns: Area of circle in float\n",
      "    \n",
      "Help on function calc in module __main__:\n",
      "\n",
      "calc(radius: float) -> float\n",
      "    Description: It returns area of the circle\n",
      "    Parameter: Radius as float\n",
      "    Returns: Area of circle in float\n",
      "\n",
      "Help on class range in module builtins:\n",
      "\n",
      "class range(object)\n",
      " |  range(stop) -> range object\n",
      " |  range(start, stop[, step]) -> range object\n",
      " |  \n",
      " |  Return an object that produces a sequence of integers from start (inclusive)\n",
      " |  to stop (exclusive) by step.  range(i, j) produces i, i+1, i+2, ..., j-1.\n",
      " |  start defaults to 0, and stop is omitted!  range(4) produces 0, 1, 2, 3.\n",
      " |  These are exactly the valid indices for a list of 4 elements.\n",
      " |  When step is given, it specifies the increment (or decrement).\n",
      " |  \n",
      " |  Methods defined here:\n",
      " |  \n",
      " |  __bool__(self, /)\n",
      " |      self != 0\n",
      " |  \n",
      " |  __contains__(self, key, /)\n",
      " |      Return key in self.\n",
      " |  \n",
      " |  __eq__(self, value, /)\n",
      " |      Return self==value.\n",
      " |  \n",
      " |  __ge__(self, value, /)\n",
      " |      Return self>=value.\n",
      " |  \n",
      " |  __getattribute__(self, name, /)\n",
      " |      Return getattr(self, name).\n",
      " |  \n",
      " |  __getitem__(self, key, /)\n",
      " |      Return self[key].\n",
      " |  \n",
      " |  __gt__(self, value, /)\n",
      " |      Return self>value.\n",
      " |  \n",
      " |  __hash__(self, /)\n",
      " |      Return hash(self).\n",
      " |  \n",
      " |  __iter__(self, /)\n",
      " |      Implement iter(self).\n",
      " |  \n",
      " |  __le__(self, value, /)\n",
      " |      Return self<=value.\n",
      " |  \n",
      " |  __len__(self, /)\n",
      " |      Return len(self).\n",
      " |  \n",
      " |  __lt__(self, value, /)\n",
      " |      Return self<value.\n",
      " |  \n",
      " |  __ne__(self, value, /)\n",
      " |      Return self!=value.\n",
      " |  \n",
      " |  __reduce__(...)\n",
      " |      Helper for pickle.\n",
      " |  \n",
      " |  __repr__(self, /)\n",
      " |      Return repr(self).\n",
      " |  \n",
      " |  __reversed__(...)\n",
      " |      Return a reverse iterator.\n",
      " |  \n",
      " |  count(...)\n",
      " |      rangeobject.count(value) -> integer -- return number of occurrences of value\n",
      " |  \n",
      " |  index(...)\n",
      " |      rangeobject.index(value) -> integer -- return index of value.\n",
      " |      Raise ValueError if the value is not present.\n",
      " |  \n",
      " |  ----------------------------------------------------------------------\n",
      " |  Static methods defined here:\n",
      " |  \n",
      " |  __new__(*args, **kwargs) from builtins.type\n",
      " |      Create and return a new object.  See help(type) for accurate signature.\n",
      " |  \n",
      " |  ----------------------------------------------------------------------\n",
      " |  Data descriptors defined here:\n",
      " |  \n",
      " |  start\n",
      " |  \n",
      " |  step\n",
      " |  \n",
      " |  stop\n",
      "\n"
     ]
    }
   ],
   "source": [
    "def calc(radius:float)->float:\n",
    "    \"\"\"\n",
    "    Description: It returns area of the circle\n",
    "    Parameter: Radius as float\n",
    "    Returns: Area of circle in float\n",
    "    \"\"\"\n",
    "    return 3.14*radius*radius\n",
    "\n",
    "calc(4)\n",
    "print(calc.__doc__)\n",
    "help(calc)\n",
    "help(range)"
   ]
  },
  {
   "cell_type": "markdown",
   "metadata": {},
   "source": [
    "## Function Categories"
   ]
  },
  {
   "cell_type": "code",
   "execution_count": 22,
   "metadata": {},
   "outputs": [
    {
     "name": "stdout",
     "output_type": "stream",
     "text": [
      "Hello\n",
      "Lehho\n",
      "Helloo\n",
      "Lehooo\n"
     ]
    }
   ],
   "source": [
    "def printline():\n",
    "    print(\"Hello\")\n",
    "printline()\n",
    "\n",
    "def printline(s):\n",
    "    print(s)\n",
    "printline(\"Lehho\")\n",
    "\n",
    "def printline():\n",
    "    return \"Helloo\"\n",
    "print(printline())\n",
    "\n",
    "def printline(s):\n",
    "    return s\n",
    "print(printline(\"Lehooo\"))"
   ]
  },
  {
   "cell_type": "markdown",
   "metadata": {},
   "source": [
    "## Return Multiple Values"
   ]
  },
  {
   "cell_type": "code",
   "execution_count": 23,
   "metadata": {},
   "outputs": [
    {
     "data": {
      "text/plain": [
       "(5, 6, 1)"
      ]
     },
     "execution_count": 23,
     "metadata": {},
     "output_type": "execute_result"
    }
   ],
   "source": [
    "def calc(a,b):\n",
    "    return a+b, a*b, a-b\n",
    "calc(3,2)"
   ]
  },
  {
   "cell_type": "code",
   "execution_count": 27,
   "metadata": {},
   "outputs": [
    {
     "name": "stdout",
     "output_type": "stream",
     "text": [
      "Enter 1.(C) 2.(F): 2\n",
      "Enter temperature to convert: 33\n",
      "Celsius value for 33.0 F is 0.56 C\n"
     ]
    }
   ],
   "source": [
    "#wap to convert Farenhite to Celsius and vice versa if user choice is taken as input\n",
    "def c2f(c):\n",
    "    f=(c*9/5)+32\n",
    "    print(f\"Farenhite value for {c} C is {f:.2f} F\")\n",
    "\n",
    "def f2c(f):\n",
    "    c=(f-32)*5/9\n",
    "    print(f\"Celsius value for {f} F is {c:.2f} C\")\n",
    "    \n",
    "choice=int(input(\"Enter 1.(C) 2.(F): \"))\n",
    "value=float(input(\"Enter temperature to convert: \"))\n",
    "\n",
    "if(choice==1) :\n",
    "    c2f(value)\n",
    "elif(choice==2):\n",
    "    f2c(value)\n",
    "else:\n",
    "    print(\"Enter proper choice\")"
   ]
  },
  {
   "cell_type": "markdown",
   "metadata": {},
   "source": [
    "## Variable Scope and Lifetime"
   ]
  },
  {
   "cell_type": "code",
   "execution_count": null,
   "metadata": {},
   "outputs": [],
   "source": [
    "#Variable defined inside a function has a local scope and is accessible only within the function\n",
    "#Local Variable are created when the function is called and are destroyed when the function ends\n",
    "#This was the lifetime for a variable inside a function"
   ]
  },
  {
   "cell_type": "code",
   "execution_count": 1,
   "metadata": {},
   "outputs": [
    {
     "name": "stdout",
     "output_type": "stream",
     "text": [
      "1\n",
      "10\n"
     ]
    }
   ],
   "source": [
    "x=10\n",
    "def func():\n",
    "    x=1\n",
    "    print(x)\n",
    "func()\n",
    "print(x)"
   ]
  },
  {
   "cell_type": "code",
   "execution_count": 2,
   "metadata": {},
   "outputs": [
    {
     "name": "stdout",
     "output_type": "stream",
     "text": [
      "100\n",
      "400\n"
     ]
    }
   ],
   "source": [
    "def power(a=10):\n",
    "    print(a*a)\n",
    "power()\n",
    "power(20)"
   ]
  },
  {
   "cell_type": "code",
   "execution_count": 11,
   "metadata": {},
   "outputs": [
    {
     "name": "stdout",
     "output_type": "stream",
     "text": [
      "Hello  Python!! Kasa aahes??\n",
      "Hello  Python!!! Kasa aahes???\n",
      "Hello  Python!!!! Kasa aahes????\n",
      "Hello  Python!! Kasa aahes??\n"
     ]
    }
   ],
   "source": [
    "def wish(name, msg):\n",
    "    print(\"Hello \",name, msg)\n",
    "#wish() #TypeError: wish() missing 2 required positional arguments: 'name' and 'msg'\n",
    "#wish(name=\"Python!\") #TypeError: wish() missing 1 required positional argument: 'msg'\n",
    "wish(name=\"Python!!\", msg=\"Kasa aahes??\")\n",
    "wish(msg=\"Kasa aahes???\", name=\"Python!!!\")\n",
    "wish('Python!!!!', 'Kasa aahes????')\n",
    "wish(\"Python!!\", msg=\"Kasa aahes??\")\n",
    "#wish(name='Python!!!!!', 'Kasa aahes?????') #SyntaxError: positional argument follows keyword argument"
   ]
  },
  {
   "cell_type": "code",
   "execution_count": 12,
   "metadata": {},
   "outputs": [
    {
     "name": "stdout",
     "output_type": "stream",
     "text": [
      "Variable   Type        Data/Info\n",
      "--------------------------------\n",
      "func       function    <function func at 0x000001AAC970ADC0>\n",
      "power      function    <function power at 0x000001AAC970AC10>\n",
      "wish       function    <function wish at 0x000001AAC97D6790>\n",
      "x          int         10\n"
     ]
    }
   ],
   "source": [
    "whos"
   ]
  },
  {
   "cell_type": "code",
   "execution_count": 14,
   "metadata": {},
   "outputs": [
    {
     "data": {
      "text/plain": [
       "1"
      ]
     },
     "execution_count": 14,
     "metadata": {},
     "output_type": "execute_result"
    }
   ],
   "source": [
    "def add(a,b):\n",
    "    return a+b\n",
    "def add(a,b):\n",
    "    return a-b\n",
    "add(3,2)"
   ]
  },
  {
   "cell_type": "code",
   "execution_count": 15,
   "metadata": {},
   "outputs": [
    {
     "data": {
      "text/plain": [
       "'32'"
      ]
     },
     "execution_count": 15,
     "metadata": {},
     "output_type": "execute_result"
    }
   ],
   "source": [
    "def add(a,b):\n",
    "    return a+b\n",
    "add('3','2')"
   ]
  },
  {
   "cell_type": "code",
   "execution_count": 20,
   "metadata": {},
   "outputs": [
    {
     "name": "stdout",
     "output_type": "stream",
     "text": [
      "89\n"
     ]
    }
   ],
   "source": [
    "def add(*n): #APA\n",
    "    total=0\n",
    "    for i in n:\n",
    "        total+=i\n",
    "    print(total)\n",
    "add(3,2, 6, 9, 69)"
   ]
  },
  {
   "cell_type": "markdown",
   "metadata": {},
   "source": [
    "### GLOBAL KEYWORD"
   ]
  },
  {
   "cell_type": "code",
   "execution_count": 21,
   "metadata": {},
   "outputs": [
    {
     "name": "stdout",
     "output_type": "stream",
     "text": [
      "30\n",
      "5\n"
     ]
    }
   ],
   "source": [
    "x=90\n",
    "def func(a):\n",
    "    global x\n",
    "    x=5\n",
    "    return x*a\n",
    "print(func(6))\n",
    "print(x)"
   ]
  },
  {
   "cell_type": "code",
   "execution_count": null,
   "metadata": {},
   "outputs": [],
   "source": [
    "#Positional Argument must be provided in order before any keyword argument.\n",
    "#Keyword Arguments can be provided in any order after positional argument.\n",
    "#Default Arguments must appear after non-default argument.\n",
    "#Additional Positional Argument: *args"
   ]
  },
  {
   "cell_type": "code",
   "execution_count": 32,
   "metadata": {},
   "outputs": [
    {
     "name": "stdout",
     "output_type": "stream",
     "text": [
      "Enter num: 15\n",
      "not a perfect square\n"
     ]
    }
   ],
   "source": [
    "#wap to check if a given number is perfect square or not\n",
    "num=int(input(\"Enter num: \"))\n",
    "\n",
    "a=num**0.5\n",
    "\n",
    "if(a==int(a)):\n",
    "    print(\"perfect square\")\n",
    "else:\n",
    "    print(\"not a perfect square\")"
   ]
  },
  {
   "cell_type": "code",
   "execution_count": 33,
   "metadata": {},
   "outputs": [
    {
     "name": "stdout",
     "output_type": "stream",
     "text": [
      "2520\n"
     ]
    }
   ],
   "source": [
    "#wap to find smallest +ve num divisible by nums in 1 to 10\n",
    "i=1\n",
    "flag=False\n",
    "while(True):\n",
    "    for j in range(1,11):\n",
    "        if(i%j!=0):\n",
    "            flag=False\n",
    "            break\n",
    "        elif(i%j==0):\n",
    "            flag=True\n",
    "    if(flag):\n",
    "        print(i)\n",
    "        break    \n",
    "    i+=1"
   ]
  },
  {
   "cell_type": "code",
   "execution_count": 1,
   "metadata": {},
   "outputs": [
    {
     "name": "stdout",
     "output_type": "stream",
     "text": [
      "1\n",
      "7\n",
      "10\n",
      "13\n",
      "19\n",
      "23\n",
      "28\n"
     ]
    }
   ],
   "source": [
    "#A num is HAPPY if u start with any +ve int\n",
    "#replace the num by the sum of the square of its digits and repeat the process until the num=1 or it loops endlessly in a cycle\n",
    "\n",
    "for i in range(1,31):\n",
    "    temp=i\n",
    "    while(True):\n",
    "        sum1=0\n",
    "        while(temp>0):\n",
    "            r=temp%10\n",
    "            sum1+=(r**2)\n",
    "            temp//=10\n",
    "        if sum1==4:\n",
    "            break\n",
    "        elif sum1==1:\n",
    "            print(i)\n",
    "            break\n",
    "        else:\n",
    "            temp=sum1"
   ]
  },
  {
   "cell_type": "code",
   "execution_count": null,
   "metadata": {},
   "outputs": [],
   "source": []
  }
 ],
 "metadata": {
  "kernelspec": {
   "display_name": "Python 3",
   "language": "python",
   "name": "python3"
  },
  "language_info": {
   "codemirror_mode": {
    "name": "ipython",
    "version": 3
   },
   "file_extension": ".py",
   "mimetype": "text/x-python",
   "name": "python",
   "nbconvert_exporter": "python",
   "pygments_lexer": "ipython3",
   "version": "3.8.5"
  }
 },
 "nbformat": 4,
 "nbformat_minor": 4
}
