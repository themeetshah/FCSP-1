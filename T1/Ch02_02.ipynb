{
 "cells": [
  {
   "cell_type": "code",
   "execution_count": 8,
   "metadata": {},
   "outputs": [
    {
     "name": "stdout",
     "output_type": "stream",
     "text": [
      "1 is a strong number\n",
      "2 is a strong number\n",
      "145 is a strong number\n"
     ]
    }
   ],
   "source": [
    "#A num is considered as a strong num if sum of it's individual factorial of digits is the number itself.\n",
    "#Find them from 1 to 300.\n",
    "\n",
    "def fact(a):\n",
    "    fact=1\n",
    "    for j in range(1,r+1):\n",
    "        fact*=j\n",
    "    return fact\n",
    "\n",
    "for i in range(1,301):\n",
    "    a=i\n",
    "    sum1=0\n",
    "    while(a>0):\n",
    "        r=a%10        \n",
    "        sum1+=fact(r)\n",
    "        a=a//10\n",
    "    if(sum1==i):\n",
    "        print(f\"{i} is a strong number\")"
   ]
  },
  {
   "cell_type": "code",
   "execution_count": 27,
   "metadata": {},
   "outputs": [
    {
     "name": "stdout",
     "output_type": "stream",
     "text": [
      "Enter number of days (n): 15\n",
      "Day 1: 1 added\n",
      "Day 2: 2 added\n",
      "Day 3: 3 added\n",
      "Day 4: 4 added\n",
      "Day 5: 5 added\n",
      "Day 6: 6 added\n",
      "Day 7: 7 added\n",
      "Day 8: 2 added\n",
      "Day 9: 3 added\n",
      "Day 10: 4 added\n",
      "Day 11: 5 added\n",
      "Day 12: 6 added\n",
      "Day 13: 7 added\n",
      "Day 14: 8 added\n",
      "Day 15: 3 added\n",
      "Total money at the end: 66\n"
     ]
    }
   ],
   "source": [
    "# suppose you put 1 rs in bank on 1st day(Monday). \n",
    "# One day everyday from next day until Sunday, u put in one rs more \n",
    "# and on subsequent monday u put one more than previous sunday if we have number n. \n",
    "# Find total amt of money u have in bank at the end of nth day.\n",
    "\n",
    "days=int(input(\"Enter number of days (n): \"))\n",
    "\n",
    "total_money=0\n",
    "rsw_add = 1\n",
    "for i in range(1, days+1) :\n",
    "    \n",
    "    if i%7==1:\n",
    "        rsd_add=rsw_add\n",
    "    \n",
    "    total_money+=rsd_add\n",
    "    print(f\"Day {i}: {rsd_add} added\")\n",
    "    rsd_add+=1\n",
    "    \n",
    "    if(i%7==0): \n",
    "        rsw_add+=1\n",
    "else:\n",
    "    print(f\"Total money at the end: {total_money}\")\n",
    "    "
   ]
  },
  {
   "cell_type": "code",
   "execution_count": 42,
   "metadata": {},
   "outputs": [
    {
     "name": "stdout",
     "output_type": "stream",
     "text": [
      "Enter a digit from 1 to 9: 1\n",
      "1234 is sum\n",
      "1234\n",
      "1234\n"
     ]
    }
   ],
   "source": [
    "#wap that computes the value of a + aa + aaa + aaaa with a given digit of value a\n",
    "\n",
    "a=int(input(\"Enter a digit from 1 to 9: \"))\n",
    "a2=a\n",
    "a3=a\n",
    "\n",
    "#M1\n",
    "sum1=0\n",
    "temp=a\n",
    "for i in range(4):\n",
    "    sum1+=a\n",
    "    a= temp + a*10\n",
    "print(f\"{sum1} is sum\")\n",
    "\n",
    "#M2\n",
    "sum2=a2+(a2*11)+(a2*111)+(a2*1111)\n",
    "print(sum2)\n",
    "\n",
    "#M3\n",
    "sum3=a3+int(f\"{a3}{a3}\")+int(f\"{a3}{a3}{a3}\")+int(f\"{a3}{a3}{a3}{a3}\")\n",
    "print(sum3)"
   ]
  },
  {
   "cell_type": "code",
   "execution_count": 37,
   "metadata": {},
   "outputs": [
    {
     "name": "stdout",
     "output_type": "stream",
     "text": [
      "-1000\n"
     ]
    }
   ],
   "source": [
    "#compute sum of 1-2+3-4+5...-2000\n",
    "sum1=0\n",
    "for i in range(1, 2001):\n",
    "    if(i%2==0):\n",
    "        sum1-=i\n",
    "    else:\n",
    "        sum1+=i\n",
    "print(sum1)"
   ]
  },
  {
   "cell_type": "code",
   "execution_count": 39,
   "metadata": {},
   "outputs": [
    {
     "name": "stdout",
     "output_type": "stream",
     "text": [
      "18th digit is 5768\n"
     ]
    }
   ],
   "source": [
    "#tribonacci: 0,0,1,1,2,4,7,...\n",
    "#find 18th number: 5768\n",
    "\n",
    "a=0\n",
    "b=0\n",
    "c=1\n",
    "sum1=0\n",
    "for i in range(4,19):\n",
    "    sum1=a+b+c\n",
    "    a=b\n",
    "    b=c\n",
    "    c=sum1\n",
    "else:\n",
    "    print(f\"18th digit is {c}\")"
   ]
  },
  {
   "cell_type": "code",
   "execution_count": 1,
   "metadata": {},
   "outputs": [
    {
     "name": "stdout",
     "output_type": "stream",
     "text": [
      "Ramanujan number: 1729: (1,12) & (9,10)\n",
      "Ramanujan number: 4104: (2,16) & (9,15)\n",
      "Ramanujan numbers: [1729, 4104]\n"
     ]
    }
   ],
   "source": [
    "# wap to find Ramanujan number that can be expressed as a sum of two cubes in two different ways with the help numbers 1 to 20.\n",
    "\n",
    "list1=[]\n",
    "for i1 in range(1,21):\n",
    "    for i2 in range(1,21):\n",
    "        sum1=(i1**3)+(i2**3)        \n",
    "        for i3 in range(1,21):\n",
    "            for i4 in range(1,21):\n",
    "                sum2=(i3**3)+(i4**3)\n",
    "                if sum1==sum2 and not(i1==i3 and i2==i4) and not(i1==i4 and i2==i3) and (sum1 not in list1):\n",
    "                    print(f\"Ramanujan number: {sum1}: ({i1},{i2}) & ({i3},{i4})\")\n",
    "                    list1.append(sum1)\n",
    "                    \n",
    "print(f\"Ramanujan numbers: {list1}\")"
   ]
  },
  {
   "cell_type": "code",
   "execution_count": 15,
   "metadata": {},
   "outputs": [
    {
     "name": "stdout",
     "output_type": "stream",
     "text": [
      "Enter num: 1234\n",
      "New num: 4231\n"
     ]
    }
   ],
   "source": [
    "#wap to swap 1st and last digits of number\n",
    "\n",
    "num=int(input(\"Enter num: \"))\n",
    "\n",
    "digits = 0\n",
    "temp1 = num\n",
    "digits = 0\n",
    "\n",
    "while temp1>0:\n",
    "    digits += 1\n",
    "    temp1 //= 10\n",
    "\n",
    "last_digit = num % 10\n",
    "num //= 10\n",
    "    \n",
    "first_digit = num\n",
    "while(first_digit >= 10):\n",
    "    first_digit //= 10\n",
    "\n",
    "num -= first_digit * (10**(digits-2))\n",
    "new_num = last_digit * (10**(digits-1)) + num*10 + first_digit\n",
    "\n",
    "print(f\"New num: {new_num}\")"
   ]
  },
  {
   "cell_type": "code",
   "execution_count": null,
   "metadata": {},
   "outputs": [],
   "source": []
  }
 ],
 "metadata": {
  "kernelspec": {
   "display_name": "Python 3",
   "language": "python",
   "name": "python3"
  },
  "language_info": {
   "codemirror_mode": {
    "name": "ipython",
    "version": 3
   },
   "file_extension": ".py",
   "mimetype": "text/x-python",
   "name": "python",
   "nbconvert_exporter": "python",
   "pygments_lexer": "ipython3",
   "version": "3.8.5"
  }
 },
 "nbformat": 4,
 "nbformat_minor": 4
}
