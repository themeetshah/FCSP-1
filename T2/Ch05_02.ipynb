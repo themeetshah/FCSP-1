{
 "cells": [
  {
   "cell_type": "code",
   "execution_count": 3,
   "metadata": {},
   "outputs": [
    {
     "name": "stdout",
     "output_type": "stream",
     "text": [
      "Sum of l1: 2\n"
     ]
    }
   ],
   "source": [
    "# Don't include number 13 and number after that in sumation\n",
    "\n",
    "# l1=[1,2,3,4]\n",
    "# l1=[1,2,3,4,13]\n",
    "l1=[13,1,2,13]\n",
    "sum1=0\n",
    "for i in range(len(l1)):\n",
    "    if not(l1[i-1]==13 or l1[i]==13):\n",
    "        sum1+=l1[i]\n",
    "else:\n",
    "    print(\"Sum of l1:\",sum1)"
   ]
  },
  {
   "cell_type": "code",
   "execution_count": 7,
   "metadata": {},
   "outputs": [
    {
     "name": "stdout",
     "output_type": "stream",
     "text": [
      "Special nos.: 5, 5, \n",
      "Total: 2\n"
     ]
    }
   ],
   "source": [
    "# Given a list of length n. You need to count the no. of special elements in the list.\n",
    "# Special Element: If removal of that number makes the list balanced.\n",
    "# List Balanced: If sum of numbers at even index is equal to the sum of numbers at odd index\n",
    "\n",
    "l1=[5,5,2,5,8]\n",
    "\n",
    "count=0\n",
    "print(\"Special nos.: \",end=\"\")\n",
    "for i in range(len(l1)):\n",
    "    list1=l1[:]\n",
    "    list1.pop(i)\n",
    "    if sum(list1[::2])==sum(list1[1::2]):\n",
    "        print(l1[i],end=\", \")\n",
    "        count+=1\n",
    "else:\n",
    "    print(\"\\nTotal:\",count)"
   ]
  },
  {
   "cell_type": "code",
   "execution_count": 2,
   "metadata": {},
   "outputs": [
    {
     "name": "stdout",
     "output_type": "stream",
     "text": [
      "Enter: [1,2,3,4,3]\n",
      "Longest chain possible: 4\n"
     ]
    }
   ],
   "source": [
    "#find the length of largest possible chain of consecutive nos.\n",
    "l1=eval(input(\"Enter: \"))\n",
    "l1.sort()\n",
    "length=[]\n",
    "\n",
    "for i in l1:\n",
    "    count=1\n",
    "    for j in l1:\n",
    "        if i+1==j:\n",
    "            i=j\n",
    "            count+=1\n",
    "    length.append(count)\n",
    "else:\n",
    "    print(\"Longest chain possible:\",max(length))"
   ]
  },
  {
   "cell_type": "code",
   "execution_count": 17,
   "metadata": {},
   "outputs": [
    {
     "name": "stdout",
     "output_type": "stream",
     "text": [
      "Enter: 1.1.1.1\n",
      "Valid\n"
     ]
    }
   ],
   "source": [
    "#wap to check if an ip address is valid\n",
    "\n",
    "ip=input(\"Enter: \")\n",
    "address=ip.split(\".\")\n",
    "valid=False\n",
    "if len(address)==4:\n",
    "    for i in address:\n",
    "        if i.isdigit() and int(i)>=0 and int(i)<=255:\n",
    "            valid=True\n",
    "        else:\n",
    "            valid=False\n",
    "            break\n",
    "print(\"Valid\" if valid else \"Invalid\")"
   ]
  },
  {
   "cell_type": "code",
   "execution_count": 19,
   "metadata": {},
   "outputs": [
    {
     "name": "stdout",
     "output_type": "stream",
     "text": [
      "29\n"
     ]
    }
   ],
   "source": [
    "# you have an array for which i'th element is the price of the given stock\n",
    "# design an algorithm to find max profit\n",
    "# you may complete atmost 2 transactions\n",
    "# you can't do multiple transactions at a time\n",
    "\n",
    "prize=[3,3,5,0,0,3,1,4]\n",
    "buy_index=0\n",
    "profit=0\n",
    "for i in range(len(prize)):\n",
    "    sell_index=prize.index(max(prize))\n",
    "    profit+=prize[sell_index]-prize[buy_index]\n",
    "    buy_index=prize.index(min(prize))\n",
    "    prize=prize[buy_index::]\n",
    "print(profit)"
   ]
  },
  {
   "cell_type": "code",
   "execution_count": null,
   "metadata": {},
   "outputs": [],
   "source": []
  }
 ],
 "metadata": {
  "kernelspec": {
   "display_name": "Python 3",
   "language": "python",
   "name": "python3"
  },
  "language_info": {
   "codemirror_mode": {
    "name": "ipython",
    "version": 3
   },
   "file_extension": ".py",
   "mimetype": "text/x-python",
   "name": "python",
   "nbconvert_exporter": "python",
   "pygments_lexer": "ipython3",
   "version": "3.8.5"
  }
 },
 "nbformat": 4,
 "nbformat_minor": 4
}
