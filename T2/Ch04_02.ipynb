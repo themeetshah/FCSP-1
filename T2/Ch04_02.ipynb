{
 "cells": [
  {
   "cell_type": "code",
   "execution_count": 17,
   "metadata": {},
   "outputs": [
    {
     "name": "stdout",
     "output_type": "stream",
     "text": [
      "Not Balanced\n"
     ]
    }
   ],
   "source": [
    "#wap to check if strings are balanced\n",
    "#the strings are balanced if elements of str1 are present in str2\n",
    "str1=\"mz\"\n",
    "str2=\"meets\"\n",
    "count=0\n",
    "for i in str1:\n",
    "    if i in str2:\n",
    "        count+=1\n",
    "else:\n",
    "    if(count>=len(str1)):\n",
    "        print(\"Balanced\")\n",
    "    else:\n",
    "        print(\"Not Balanced\")"
   ]
  },
  {
   "cell_type": "code",
   "execution_count": 41,
   "metadata": {},
   "outputs": [
    {
     "name": "stdout",
     "output_type": "stream",
     "text": [
      "Enter string: LJIET ENG\n",
      "Enter shift: 6\n",
      "M1: RPOKZ KTM\n",
      "M2: RPOKZ KTM\n"
     ]
    }
   ],
   "source": [
    "#wap for ciepher\n",
    "#input: LJIET ENG  \n",
    "#output: OMLHW HQJ\n",
    "s=input(\"Enter string: \")\n",
    "shift=int(input(\"Enter shift: \"))\n",
    "\n",
    "#M1\n",
    "new_str=\"\"\n",
    "for i in range(len(s)):\n",
    "    new=ord(s[i])+shift\n",
    "    if new>90:\n",
    "        new=new-90+65\n",
    "        new_str+=chr(new)\n",
    "    elif s[i]==\" \":\n",
    "        new_str+=\" \"\n",
    "    else:\n",
    "        new_str+=chr(new)\n",
    "print(\"M1:\",new_str)\n",
    "\n",
    "#M2:\n",
    "new_str=\"\"\n",
    "alphabet=\"ABCDEFGHIJKLMNOPQRSTUVWXYZ\"\n",
    "for i in s:\n",
    "    if i==\" \":\n",
    "        new_str+=\" \"\n",
    "    else:\n",
    "        index=alphabet.index(i)\n",
    "        new_index=(index+shift)%26\n",
    "        new_str+=alphabet[new_index]\n",
    "print(\"M2:\",new_str)"
   ]
  },
  {
   "cell_type": "code",
   "execution_count": 21,
   "metadata": {},
   "outputs": [
    {
     "name": "stdout",
     "output_type": "stream",
     "text": [
      "Shift: 2\n",
      "M1: 34512\n",
      "M2: 34512\n"
     ]
    }
   ],
   "source": [
    "#if the shift is 1, then the last digit is to be placed at 1st position\n",
    "#if the shift is 2, then the last 2 digits are to be placed at 1st 2 position\n",
    "#shift all the nos. if the shift is more than no. of digit\n",
    "\n",
    "string=\"12345\"\n",
    "shift=int(input(\"Shift: \"))\n",
    "\n",
    "#M1:\n",
    "new_str=\"\"\n",
    "if shift<len(string):\n",
    "    split=string.split(string[shift])\n",
    "    new_str=string[shift]+split[1]+split[0]\n",
    "else:\n",
    "    for i in string[-1::-1]:\n",
    "        new_str+=i\n",
    "print(\"M1:\",new_str)\n",
    "\n",
    "#M2:\n",
    "new_str=\"\"\n",
    "if shift<len(string):\n",
    "    new_str=string[shift::1]+string[0:shift:1]\n",
    "else:\n",
    "    for i in string[-1::-1]:\n",
    "        new_str+=i\n",
    "print(\"M2:\",new_str)"
   ]
  },
  {
   "cell_type": "code",
   "execution_count": 32,
   "metadata": {},
   "outputs": [
    {
     "name": "stdout",
     "output_type": "stream",
     "text": [
      "Enter password: rochan@NIGGA@14\n",
      "Valid\n"
     ]
    }
   ],
   "source": [
    "#wap to validate a password under following conditions\n",
    "#1. min 8 char\n",
    "#2. atleast (1-digit, 1-uppercase alphabet, any from: @,_,$)\n",
    "password=input(\"Enter password: \")\n",
    "Upper_present=False\n",
    "Digit_present=False\n",
    "Symbol_present=False\n",
    "\n",
    "if len(password)>=8:\n",
    "    for i in password:\n",
    "        if i.isdigit():\n",
    "            Digit_present=True\n",
    "        elif i.isupper():\n",
    "            Upper_present=True\n",
    "        elif i==\"@\" or i==\"_\" or i==\"$\":\n",
    "            Symbol_present=True\n",
    "    if Upper_present:\n",
    "        if Digit_present:\n",
    "            if Symbol_present:\n",
    "                print(\"Valid\")\n",
    "            else:\n",
    "                print(\"There must be a symbol\")\n",
    "        else:\n",
    "            print(\"There must be a digit\")\n",
    "    else:\n",
    "        print(\"There must be a upper case\")\n",
    "else:\n",
    "    print(\"It must have atleast 8 characters\")\n"
   ]
  },
  {
   "cell_type": "markdown",
   "metadata": {},
   "source": [
    "# TUPLE:"
   ]
  },
  {
   "cell_type": "markdown",
   "metadata": {},
   "source": [
    "### --Tuple is heterogeneous, immutable data-structure in python which can be indexed or sliced and can be initiated to tuple keyword or parenthesis"
   ]
  },
  {
   "cell_type": "code",
   "execution_count": 44,
   "metadata": {},
   "outputs": [
    {
     "data": {
      "text/plain": [
       "['I', 'hi', 'this', 'python']"
      ]
     },
     "execution_count": 44,
     "metadata": {},
     "output_type": "execute_result"
    }
   ],
   "source": [
    "t=(\"hi\", \"I\", \"this\", \"python\")\n",
    "sorted(t,key=len, reverse=False) #key=len: sorting must be on based of length of the string"
   ]
  },
  {
   "cell_type": "code",
   "execution_count": 1,
   "metadata": {},
   "outputs": [
    {
     "name": "stdout",
     "output_type": "stream",
     "text": [
      "M1: 130\n",
      "M2: 130\n"
     ]
    }
   ],
   "source": [
    "#wap to find the sum of the elements\n",
    "t=(10,100,20)\n",
    "\n",
    "#M1:\n",
    "sum1=0\n",
    "for i in t:\n",
    "    sum1+=i\n",
    "print(\"M1:\",sum1)\n",
    "\n",
    "#M2:\n",
    "print(\"M2:\",sum(t))"
   ]
  },
  {
   "cell_type": "code",
   "execution_count": 49,
   "metadata": {},
   "outputs": [
    {
     "name": "stdout",
     "output_type": "stream",
     "text": [
      "Even sum: 12 , Odd sum: 9\n"
     ]
    }
   ],
   "source": [
    "#wap to calculate the sum of odd nos. and even nos.\n",
    "t=(1,2,3,4,5,6)\n",
    "sum_even=0\n",
    "sum_odd=0\n",
    "for i in t:\n",
    "    if i%2==0:\n",
    "        sum_even+=i\n",
    "    else:\n",
    "        sum_odd+=i\n",
    "else:\n",
    "    print(\"Even sum:\",sum_even,\", Odd sum:\",sum_odd)"
   ]
  },
  {
   "cell_type": "code",
   "execution_count": 3,
   "metadata": {},
   "outputs": [
    {
     "name": "stdout",
     "output_type": "stream",
     "text": [
      "Mr pYTHOn\n"
     ]
    }
   ],
   "source": [
    "string = \"mR PythoN\"\n",
    "tuple_string = tuple(string)\n",
    "\n",
    "swapped_tuple = tuple(char.lower() if char.isupper() else char.upper() for char in tuple_string)\n",
    "\n",
    "swapped_string = ''.join(swapped_tuple)\n",
    "\n",
    "print(swapped_string)\n"
   ]
  },
  {
   "cell_type": "code",
   "execution_count": null,
   "metadata": {},
   "outputs": [],
   "source": []
  }
 ],
 "metadata": {
  "kernelspec": {
   "display_name": "Python 3",
   "language": "python",
   "name": "python3"
  },
  "language_info": {
   "codemirror_mode": {
    "name": "ipython",
    "version": 3
   },
   "file_extension": ".py",
   "mimetype": "text/x-python",
   "name": "python",
   "nbconvert_exporter": "python",
   "pygments_lexer": "ipython3",
   "version": "3.8.5"
  }
 },
 "nbformat": 4,
 "nbformat_minor": 4
}
