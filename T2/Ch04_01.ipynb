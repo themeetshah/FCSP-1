{
 "cells": [
  {
   "cell_type": "code",
   "execution_count": null,
   "metadata": {},
   "outputs": [],
   "source": [
    "s=\"hello\"\n",
    "#s[0]=\"z\" #error: string is immutable\n",
    "print(s)"
   ]
  },
  {
   "cell_type": "code",
   "execution_count": null,
   "metadata": {},
   "outputs": [],
   "source": [
    "s=\"hello\"\n",
    "print(id(s))\n",
    "s=\"helln\"\n",
    "print(id(s))\n",
    "m=s[:]\n",
    "print(m)\n",
    "print(id(m))"
   ]
  },
  {
   "cell_type": "code",
   "execution_count": null,
   "metadata": {},
   "outputs": [],
   "source": [
    "#INDEXING\n",
    "\n",
    "s=\"hello world\"\n",
    "print(s[6])\n",
    "print(s[-1])\n",
    "print(s[-5])\n",
    "print(s[-6]+\"<-- EMPTY SPACE\")"
   ]
  },
  {
   "cell_type": "code",
   "execution_count": null,
   "metadata": {},
   "outputs": [],
   "source": [
    "#SLICING\n",
    "\n",
    "s=\"hello world\"\n",
    "print(s[0:6:2])\n",
    "print(s[2:4:2])\n",
    "print(s[2::-1])\n",
    "print(s[:-1:3])\n",
    "print(s[::2])\n",
    "print(s[0:7:3])\n",
    "print(s[2:-1:2])\n",
    "print(s[:-2:2])\n",
    "print(s[1:-1:3])\n",
    "print(s[1:-5:-2])\n",
    "print(s[::-1])\n",
    "print(s[5::])\n",
    "#print(s[start:stop:step])"
   ]
  },
  {
   "cell_type": "code",
   "execution_count": null,
   "metadata": {},
   "outputs": [],
   "source": [
    "#Comparison & LOGIC\n",
    "\n",
    "print(\"Delhi == Pune:\",\"Delhi\"==\"Pune\")\n",
    "print(\"delhi>mumbai:\",\"delhi\">\"mumbai\")\n",
    "print(\"delhi>Mumbai:\",\"delhi\">\"Mumbai\")\n",
    "print(\"hello and world:\",\"hello\" and \"world\")\n",
    "print(\"hello or world:\",\"hello\" or \"world\")\n",
    "print(\"not(\"\"):\",not(\"\"))"
   ]
  },
  {
   "cell_type": "code",
   "execution_count": null,
   "metadata": {},
   "outputs": [],
   "source": [
    "#ITERATION\n",
    "\n",
    "s=\"python\"\n",
    "for x in s:\n",
    "    print(x)"
   ]
  },
  {
   "cell_type": "code",
   "execution_count": null,
   "metadata": {},
   "outputs": [],
   "source": [
    "#Enumerate\n",
    "\n",
    "s=\"python\"\n",
    "for index,value in enumerate(s,3):\n",
    "    print(index,value)"
   ]
  },
  {
   "cell_type": "code",
   "execution_count": null,
   "metadata": {},
   "outputs": [],
   "source": [
    "#MEMBERSHIP\n",
    "\n",
    "print(\"z\" not in \"python\")\n",
    "print(\"p\" not in \"python\")"
   ]
  },
  {
   "cell_type": "code",
   "execution_count": null,
   "metadata": {},
   "outputs": [],
   "source": [
    "#UNIVERSAL FUNCTION\n",
    "\n",
    "s=\"hello world\"\n",
    "print(len(s))\n",
    "print(min(s),\"<---- This is an empty space\")\n",
    "print(max(s))\n",
    "print(sorted(s))\n",
    "print(s)\n",
    "print()\n",
    "\n",
    "s=\"hi\\n\"\n",
    "print(len(s))\n",
    "s=\"hi/n\"\n",
    "print(len(s))"
   ]
  },
  {
   "cell_type": "code",
   "execution_count": 6,
   "metadata": {},
   "outputs": [
    {
     "name": "stdout",
     "output_type": "stream",
     "text": [
      "Methods: ['__add__', '__class__', '__contains__', '__delattr__', '__dir__', '__doc__', '__eq__', '__format__', '__ge__', '__getattribute__', '__getitem__', '__getnewargs__', '__gt__', '__hash__', '__init__', '__init_subclass__', '__iter__', '__le__', '__len__', '__lt__', '__mod__', '__mul__', '__ne__', '__new__', '__reduce__', '__reduce_ex__', '__repr__', '__rmod__', '__rmul__', '__setattr__', '__sizeof__', '__str__', '__subclasshook__', 'capitalize', 'casefold', 'center', 'count', 'encode', 'endswith', 'expandtabs', 'find', 'format', 'format_map', 'index', 'isalnum', 'isalpha', 'isascii', 'isdecimal', 'isdigit', 'isidentifier', 'islower', 'isnumeric', 'isprintable', 'isspace', 'istitle', 'isupper', 'join', 'ljust', 'lower', 'lstrip', 'maketrans', 'partition', 'replace', 'rfind', 'rindex', 'rjust', 'rpartition', 'rsplit', 'rstrip', 'split', 'splitlines', 'startswith', 'strip', 'swapcase', 'title', 'translate', 'upper', 'zfill']\n",
      "\n",
      "capitalize: This is a python tutorial\n",
      "Upper: THIS IS A PYTHON TUTORIAL\n",
      "lower: this is a python tutorial\n",
      "title: This Is A Python Tutorial\n",
      "swapcase: tHIS IS A PYtHON TUTORIAL\n",
      "isupper: False\n",
      "islower: False\n",
      "isdigit: False\n",
      "isspace: False\n",
      "count: 1\n",
      "count: 1\n",
      "find: #returns index: 2\n",
      "find: -1\n",
      "find: 5\n",
      "join: T🐍h🐍i🐍s🐍 🐍i🐍s🐍 🐍a🐍 🐍p🐍y🐍T🐍h🐍o🐍n🐍 🐍t🐍u🐍t🐍o🐍r🐍i🐍a🐍l\n",
      "join: This [This is a pyThon tutorial] is python\n",
      "split: ['This', 'is', 'a', 'pyThon', 'tutorial']\n",
      "replace: This was a pyThon tutorial\n",
      "strip: s is a pyThon tutor\n",
      "strip:  \n",
      "strip:  sihT\n",
      "strip: This \n"
     ]
    }
   ],
   "source": [
    "#String Methods\n",
    "\n",
    "print(\"Methods:\",dir(str))\n",
    "\n",
    "print()\n",
    "s=\"This is a pyThon tutorial\"\n",
    "print(\"capitalize:\",s.capitalize())\n",
    "print(\"Upper:\",s.upper())\n",
    "print(\"lower:\",s.lower())\n",
    "print(\"title:\",s.title())\n",
    "print(\"swapcase:\",s.swapcase())\n",
    "print(\"isupper:\",s.isupper())\n",
    "print(\"islower:\",s.islower())\n",
    "print(\"isdigit:\",s.isdigit())\n",
    "print(\"isspace:\",s.isspace())\n",
    "print(\"count:\",s.count(\"is\",4))\n",
    "print(\"count:\",s.count(\"is\",4,100))\n",
    "#print(\"count:\",s.count(\"is\",4,100,2))\n",
    "print(\"find: #returns index:\",s.find(\"is\"))\n",
    "print(\"find:\",s.find(\"iz\"))\n",
    "print(\"find:\",s.find(\"is\",4))\n",
    "#print(\"index\",s.index(\"iz\")) #gives error\n",
    "s1=\"🐍\"\n",
    "print(\"join:\",s1.join(s))\n",
    "print(\"join:\",s.join([\"This [\",\"] is python\"]))\n",
    "print(\"split:\",s.split(\" \"))\n",
    "print(\"replace:\",s.replace(\" is\",\" was\"))\n",
    "print(\"strip:\",s.strip(\"Thial\"))\n",
    "s1=\"This sihT\"\n",
    "print(\"strip:\",s1.strip(\"This\"))\n",
    "print(\"strip:\",s1.lstrip(\"This\"))\n",
    "print(\"strip:\",s1.rstrip(\"This\"))"
   ]
  },
  {
   "cell_type": "code",
   "execution_count": 11,
   "metadata": {},
   "outputs": [
    {
     "name": "stdout",
     "output_type": "stream",
     "text": [
      "{97: 49, 101: 51, 105: 50, 111: 52, 117: 53}\n",
      "Th2s 2s 1 str2ng f5nct24n\n"
     ]
    }
   ],
   "source": [
    "intab=\"aeiou\"\n",
    "#outtab=\"132456\" #error: value error\n",
    "outtab=\"13245\"\n",
    "my=\"This is a string function\"\n",
    "transtab=my.maketrans(intab,outtab)\n",
    "print(transtab)\n",
    "print(my.translate(transtab))"
   ]
  },
  {
   "cell_type": "code",
   "execution_count": 16,
   "metadata": {},
   "outputs": [
    {
     "name": "stdout",
     "output_type": "stream",
     "text": [
      "this is what python look like\n"
     ]
    }
   ],
   "source": [
    "#remove punctuation\n",
    "import string\n",
    "a_string=\"this is what' pyt{ho}n look like!\"\n",
    "new=a_string.translate(str.maketrans(\" \",\" \",string.punctuation))\n",
    "print(new)"
   ]
  },
  {
   "cell_type": "code",
   "execution_count": 17,
   "metadata": {},
   "outputs": [
    {
     "name": "stdout",
     "output_type": "stream",
     "text": [
      "5\n"
     ]
    }
   ],
   "source": [
    "#wap to find length of string without using len fxn\n",
    "s=\"hello\"\n",
    "c=0\n",
    "for i in s:\n",
    "    c+=1\n",
    "print(c)"
   ]
  },
  {
   "cell_type": "code",
   "execution_count": 24,
   "metadata": {},
   "outputs": [
    {
     "name": "stdout",
     "output_type": "stream",
     "text": [
      "Enter str: icici\n",
      "True\n"
     ]
    }
   ],
   "source": [
    "#wap to chk if str is palindrome\n",
    "og=input(\"Enter str: \")\n",
    "print(og[-1::-1]==og)"
   ]
  },
  {
   "cell_type": "code",
   "execution_count": 31,
   "metadata": {},
   "outputs": [
    {
     "name": "stdout",
     "output_type": "stream",
     "text": [
      "10 2 3\n"
     ]
    }
   ],
   "source": [
    "#wap to count letter symbols and digits in string\n",
    "string=\"P@yn2tua8c#i5ve\"\n",
    "digits=0\n",
    "symbols=0\n",
    "letters=0\n",
    "for i in string:\n",
    "    if i.isdigit():\n",
    "        digits+=1\n",
    "    elif i.isalpha():\n",
    "        letters+=1\n",
    "    else:\n",
    "        symbols+=1\n",
    "        \n",
    "print(letters,symbols,digits)"
   ]
  },
  {
   "cell_type": "code",
   "execution_count": 37,
   "metadata": {},
   "outputs": [
    {
     "name": "stdout",
     "output_type": "stream",
     "text": [
      "Enter str: Rachon\n",
      "Rhn\n"
     ]
    }
   ],
   "source": [
    "#wap to print first,middle and last char of string\n",
    "s=input(\"Enter str: \")\n",
    "print(s[0]+s[len(s)//2]+s[len(s)-1])"
   ]
  },
  {
   "cell_type": "code",
   "execution_count": null,
   "metadata": {},
   "outputs": [],
   "source": []
  }
 ],
 "metadata": {
  "kernelspec": {
   "display_name": "Python 3",
   "language": "python",
   "name": "python3"
  },
  "language_info": {
   "codemirror_mode": {
    "name": "ipython",
    "version": 3
   },
   "file_extension": ".py",
   "mimetype": "text/x-python",
   "name": "python",
   "nbconvert_exporter": "python",
   "pygments_lexer": "ipython3",
   "version": "3.8.5"
  }
 },
 "nbformat": 4,
 "nbformat_minor": 4
}
