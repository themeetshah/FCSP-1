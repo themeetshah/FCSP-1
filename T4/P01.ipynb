{
 "cells": [
  {
   "cell_type": "code",
   "execution_count": 1,
   "metadata": {},
   "outputs": [],
   "source": [
    "import numpy as np\n",
    "import matplotlib.pyplot as plt"
   ]
  },
  {
   "cell_type": "code",
   "execution_count": 2,
   "metadata": {},
   "outputs": [
    {
     "name": "stdout",
     "output_type": "stream",
     "text": [
      "Sorted in descending order of sum of each batter's score:\n",
      " [[87 91 69 76]\n",
      " [67 48 95 83]\n",
      " [62 29 99 88]\n",
      " [59 67 13 59]\n",
      " [31 12 19 53]]\n",
      "\n",
      "Sum of Scores of all 5 batters in each match: [306, 247, 295, 359]\n",
      "\n",
      "Score>30? :\n",
      " [['yes' 'no' 'no' 'yes']\n",
      " ['yes' 'yes' 'yes' 'yes']\n",
      " ['yes' 'yes' 'no' 'yes']\n",
      " ['yes' 'no' 'yes' 'yes']\n",
      " ['yes' 'yes' 'yes' 'yes']]\n"
     ]
    }
   ],
   "source": [
    "# [sachin,dhoni,yuvraj,ganguly,kohli]\n",
    "# [[31,12,19,53],[67,48,95,83],[59,67,13,59],[62,29,99,88],[87,91,69,76]]\n",
    "\n",
    "# sort the array in descending order of the sum of batter's score\n",
    "arr = np.array([[31,12,19,53],[67,48,95,83],[59,67,13,59],[62,29,99,88],[87,91,69,76]])\n",
    "arr2=list(arr)\n",
    "sorted_arr=sorted(arr2,key=lambda x : sum(x), reverse=True)\n",
    "final_arr = np.array(sorted_arr)\n",
    "print(\"Sorted in descending order of sum of each batter's score:\\n\",final_arr)\n",
    "\n",
    "# create a new arr with the sum of all 5 batter of each match and print that new arr\n",
    "sums=[]\n",
    "for i in range(len(arr[0])):\n",
    "    sums.append(np.sum(arr[:,i]))\n",
    "print(\"\\nSum of Scores of all 5 batters in each match:\",sums)\n",
    "\n",
    "# create a new arr to show if batter has scored more than 30 runs\n",
    "new_arr2=np.where(arr>30,\"yes\",\"no\")\n",
    "print(\"\\nScore>30? :\\n\",new_arr2)"
   ]
  },
  {
   "cell_type": "code",
   "execution_count": 12,
   "metadata": {},
   "outputs": [
    {
     "data": {
      "image/png": "[encoded data removed]",
      "text/plain": [
       "<Figure size 432x288 with 1 Axes>"
      ]
     },
     "metadata": {
      "needs_background": "light"
     },
     "output_type": "display_data"
    }
   ],
   "source": [
    "# print histrogram of sachin's score\n",
    "range=(0,100)\n",
    "bins=10\n",
    "\n",
    "plt.hist(arr2[0],bins=bins,range=range,histtype='bar',rwidth=0.8)\n",
    "\n",
    "plt.xlabel('Match')\n",
    "plt.ylabel('Score')\n",
    "\n",
    "plt.title(\"Sachin's Score\")\n",
    "plt.show()"
   ]
  },
  {
   "cell_type": "code",
   "execution_count": null,
   "metadata": {},
   "outputs": [],
   "source": []
  }
 ],
 "metadata": {
  "kernelspec": {
   "display_name": "Python 3",
   "language": "python",
   "name": "python3"
  },
  "language_info": {
   "codemirror_mode": {
    "name": "ipython",
    "version": 3
   },
   "file_extension": ".py",
   "mimetype": "text/x-python",
   "name": "python",
   "nbconvert_exporter": "python",
   "pygments_lexer": "ipython3",
   "version": "3.8.5"
  }
 },
 "nbformat": 4,
 "nbformat_minor": 4
}
