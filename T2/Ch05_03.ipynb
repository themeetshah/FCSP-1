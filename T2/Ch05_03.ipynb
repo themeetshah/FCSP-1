{
 "cells": [
  {
   "cell_type": "markdown",
   "metadata": {},
   "source": [
    "# DICTIONARY:"
   ]
  },
  {
   "cell_type": "markdown",
   "metadata": {},
   "source": [
    "### --It is mutable and unordered datastructure in python, where values are accessed through keys also known as mapping"
   ]
  },
  {
   "cell_type": "markdown",
   "metadata": {},
   "source": [
    "### --Keys can't be duplicated and they are immutable"
   ]
  },
  {
   "cell_type": "markdown",
   "metadata": {},
   "source": [
    "### --Indexing and slicing aren't supported"
   ]
  },
  {
   "cell_type": "code",
   "execution_count": 1,
   "metadata": {},
   "outputs": [
    {
     "name": "stdout",
     "output_type": "stream",
     "text": [
      "{}\n"
     ]
    }
   ],
   "source": [
    "d={1:1, 2:4, 3:9, 4:16}\n",
    "d.clear()\n",
    "print(d)"
   ]
  },
  {
   "cell_type": "code",
   "execution_count": 2,
   "metadata": {},
   "outputs": [
    {
     "name": "stdout",
     "output_type": "stream",
     "text": [
      "{1: 1, 2: 4, 3: 9, 4: 16}\n"
     ]
    }
   ],
   "source": [
    "d={1:1, 2:4, 3:9, 4:16}\n",
    "m=d.copy()\n",
    "print(m)"
   ]
  },
  {
   "cell_type": "code",
   "execution_count": 3,
   "metadata": {},
   "outputs": [],
   "source": [
    "d.fromkeys??"
   ]
  },
  {
   "cell_type": "code",
   "execution_count": 4,
   "metadata": {},
   "outputs": [
    {
     "name": "stdout",
     "output_type": "stream",
     "text": [
      "{10: 100, 20: 100, 30: 100}\n",
      "{1: 1, 2: 4, 3: 9, 4: 16}\n"
     ]
    }
   ],
   "source": [
    "z=[10,20,30]\n",
    "t=dict.fromkeys(z,100)\n",
    "print(t)"
   ]
  },
  {
   "cell_type": "code",
   "execution_count": 16,
   "metadata": {},
   "outputs": [
    {
     "name": "stdout",
     "output_type": "stream",
     "text": [
      "abc\n",
      "50\n",
      "{'name': 'abc', 'age': 40, 'id': 900, 'company': 50, 'company1': 60}\n"
     ]
    }
   ],
   "source": [
    "d={\"name\":\"abc\",\n",
    "  \"age\":40,\n",
    "  \"id\":900,\n",
    "  \"company\":50}\n",
    "d.setdefault(\"company\",\"xyz\")\n",
    "d[\"company1\"]=60\n",
    "print(d[\"name\"])\n",
    "print(d[\"company\"])\n",
    "print(d)"
   ]
  },
  {
   "cell_type": "code",
   "execution_count": 24,
   "metadata": {},
   "outputs": [
    {
     "name": "stdout",
     "output_type": "stream",
     "text": [
      "{1: 1, 2: 8, 3: 27, 4: 16, 5: 125}\n",
      "{1: 1, 2: 8, 3: 27, 5: 125}\n"
     ]
    }
   ],
   "source": [
    "d1={1:1,2:4,3:9,4:16}\n",
    "d2={1:1,2:8,3:27,5:125}\n",
    "d1.update(d2)\n",
    "print(d1)\n",
    "print(d2)"
   ]
  },
  {
   "cell_type": "code",
   "execution_count": 35,
   "metadata": {},
   "outputs": [
    {
     "name": "stdout",
     "output_type": "stream",
     "text": [
      "{11: 1, 3: 27, 5: 125}\n",
      "{11: 1, 3: 27}\n"
     ]
    },
    {
     "data": {
      "text/plain": [
       "[(3, 27), (11, 1)]"
      ]
     },
     "execution_count": 35,
     "metadata": {},
     "output_type": "execute_result"
    }
   ],
   "source": [
    "d={11:1,2:8,3:27,5:125}\n",
    "d.pop(2)\n",
    "print(d)\n",
    "d.popitem()\n",
    "print(d)\n",
    "sorted(d.items())\n",
    "# print(d)"
   ]
  },
  {
   "cell_type": "code",
   "execution_count": 44,
   "metadata": {},
   "outputs": [
    {
     "name": "stdout",
     "output_type": "stream",
     "text": [
      "Enter dict:{1:1,2:4,3:9,4:15}\n",
      "False\n"
     ]
    }
   ],
   "source": [
    "#wap to return a dictionary that contains the key as int and their squares as their values\n",
    "dict1=eval(input(\"Enter dict:\"))\n",
    "for i in dict1:\n",
    "    if dict1[i]!=i**2:\n",
    "        print(\"False\")\n",
    "        break\n",
    "else:\n",
    "    print(\"True\")"
   ]
  },
  {
   "cell_type": "code",
   "execution_count": 51,
   "metadata": {},
   "outputs": [
    {
     "name": "stdout",
     "output_type": "stream",
     "text": [
      "{'this': 2, 'is': 2, 'a': 2, 'This': 1, 'python': 1}\n"
     ]
    }
   ],
   "source": [
    "#waP to count frequency of words\n",
    "string=\"this is a is This python a this\"\n",
    "dict1=dict()\n",
    "str2=string.split(\" \")\n",
    "for i in str2:\n",
    "    dict1[i]=str2.count(i)\n",
    "else:\n",
    "    print(dict1)"
   ]
  },
  {
   "cell_type": "code",
   "execution_count": 57,
   "metadata": {},
   "outputs": [
    {
     "name": "stdout",
     "output_type": "stream",
     "text": [
      "{'t': ['this', 'that', 'this'], 'i': ['is', 'is'], 'a': ['a', 'a'], 'T': ['This'], 'p': ['python']}\n"
     ]
    }
   ],
   "source": [
    "#waP to count frequency of words starting with that first letter\n",
    "string=\"this is a is This that python a this\"\n",
    "dict1=dict()\n",
    "str2=string.split(\" \")\n",
    "for i in str2:\n",
    "    if i[0] in dict1:\n",
    "        dict1[i[0]].append(i)\n",
    "    else:\n",
    "        dict1[i[0]]=[i]\n",
    "else:\n",
    "    print(dict1)"
   ]
  },
  {
   "cell_type": "code",
   "execution_count": 71,
   "metadata": {},
   "outputs": [
    {
     "name": "stdout",
     "output_type": "stream",
     "text": [
      "enter num: 901\n",
      "['nine', ' hundred ', 'one']\n"
     ]
    }
   ],
   "source": [
    "#wap to take an int value and return the equivalent english text for int: 0 to 1000\n",
    "trans={\n",
    "    1:\"one\",\n",
    "    2:\"two\",\n",
    "    3:\"three\",\n",
    "    4:\"four\",\n",
    "    5:\"five\",\n",
    "    6:\"six\",\n",
    "    7:\"seven\",\n",
    "    8:\"eight\",\n",
    "    9:\"nine\",\n",
    "    10:\"ten\",\n",
    "    11:\"eleven\",\n",
    "    12:\"twelve\",\n",
    "    13:\"thirteen\",\n",
    "    14:\"fourteen\",\n",
    "    15:\"fifteen\",\n",
    "    16:\"sixteen\",\n",
    "    17:\"seventeen\",\n",
    "    18:\"eighteen\",\n",
    "    19:\"nineteen\",\n",
    "}\n",
    "at_2={\n",
    "    2:\"twenty\",\n",
    "    3:\"thirty\",\n",
    "    4:\"forty\",\n",
    "    5:\"fifty\",\n",
    "    6:\"sixty\",\n",
    "    7:\"seventy\",\n",
    "    8:\"eighty\",\n",
    "    9:\"ninty\",\n",
    "}\n",
    "num=int(input(\"enter num: \"))\n",
    "word=[]\n",
    "if 0<num<1000:\n",
    "    string=str(num)\n",
    "    n=len(string)\n",
    "    for i in range(n):\n",
    "        if int(string[i])==0:\n",
    "            continue\n",
    "        j=int(string[i])\n",
    "        if i!=n-2 and i!=n-1:\n",
    "            word.append(trans[j])\n",
    "            word.append(\" hundred \")\n",
    "        else:\n",
    "            if j==1 and i==n-2:\n",
    "                word.append(trans[int(string[i]+string[i+1])])\n",
    "                break\n",
    "            else:\n",
    "                if i==n-2:\n",
    "                    word.append(at_2[j])\n",
    "                else:\n",
    "                    word.append(trans[j])\n",
    "    print(word)\n",
    "elif num==0:\n",
    "    print(\"zero\")\n",
    "elif num==1000:\n",
    "    print(\"one thousand\")\n",
    "else:\n",
    "    print(\"out of range\")"
   ]
  },
  {
   "cell_type": "code",
   "execution_count": 80,
   "metadata": {},
   "outputs": [
    {
     "name": "stdout",
     "output_type": "stream",
     "text": [
      "{1: 87.0, 2: 88.6}\n"
     ]
    }
   ],
   "source": [
    "#print avg score of each student's top5 scores\n",
    "l1=[[1,91],[1,92],[2,93],[2,97],[1,60],[2,77],[1,65],[1,87],[1,100],[2,100],[2,76]]\n",
    "score={}\n",
    "avg={}\n",
    "for i in range(len(l1)):\n",
    "    j=l1[i][0]\n",
    "    marks=l1[i][1]\n",
    "    if j in score:\n",
    "        score[j].append(marks)\n",
    "    else:\n",
    "        score[j]=[marks]\n",
    "for i in score:\n",
    "    score[i].sort()\n",
    "    score[i].reverse()\n",
    "for i in score:\n",
    "    count=0\n",
    "    sum1=0\n",
    "    for j in score[i]:\n",
    "        if count==5:\n",
    "            break\n",
    "        sum1+=j\n",
    "        count+=1\n",
    "    avg[i]=sum1/5\n",
    "else:\n",
    "    print(avg)"
   ]
  },
  {
   "cell_type": "code",
   "execution_count": null,
   "metadata": {},
   "outputs": [],
   "source": []
  }
 ],
 "metadata": {
  "kernelspec": {
   "display_name": "Python 3",
   "language": "python",
   "name": "python3"
  },
  "language_info": {
   "codemirror_mode": {
    "name": "ipython",
    "version": 3
   },
   "file_extension": ".py",
   "mimetype": "text/x-python",
   "name": "python",
   "nbconvert_exporter": "python",
   "pygments_lexer": "ipython3",
   "version": "3.8.5"
  }
 },
 "nbformat": 4,
 "nbformat_minor": 4
}
