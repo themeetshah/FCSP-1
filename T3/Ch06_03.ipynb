{
 "cells": [
  {
   "cell_type": "code",
   "execution_count": 5,
   "metadata": {},
   "outputs": [
    {
     "name": "stdout",
     "output_type": "stream",
     "text": [
      "\n",
      "This is an example of a very long line that goes well beyond the 80-character limit and needs to be split at the nearest word boundary for better readability.\n",
      "\n",
      "This is a short line.\n",
      "\n",
      "Another line that is too long and will also need to be broken down into multiple smaller lines to ensure compliance with the 80-character limit.\n",
      "\n"
     ]
    }
   ],
   "source": [
    "input_file = \"D:\\A1_MeetS\\Python\\T3\\longfile.txt\"\n",
    "with open(input_file, 'r') as file:\n",
    "    words = file.readlines()\n",
    "    current_line = []\n",
    "    current_length = 0\n",
    "\n",
    "for word in words:\n",
    "    if current_length + len(word) + len(current_line) > 80:\n",
    "        print(' '.join(current_line))\n",
    "        current_line = [word]\n",
    "        current_length = len(word)\n",
    "    else:\n",
    "        current_line.append(word)\n",
    "        current_length += len(word)\n",
    "\n",
    "if current_line:\n",
    "    print(' '.join(current_line))"
   ]
  },
  {
   "cell_type": "code",
   "execution_count": 10,
   "metadata": {},
   "outputs": [
    {
     "name": "stdout",
     "output_type": "stream",
     "text": [
      "猿も木から落ちる\n"
     ]
    }
   ],
   "source": [
    "#wap to extract japenese text from given file \"secret message\"\n",
    "alpha=\"ABCDEFGHIJKLMNOPQRSTUVWXYZabcdefghijklmnopqrstuvwxyz \\n,;.':#\"\n",
    "japenese=\"\"\n",
    "with open(\"D:\\A1_MeetS\\Python\\T3\\secretmessage.txt\",\"r\",encoding=\"utf-8\") as f:\n",
    "    i=f.readline(1)\n",
    "    while i:\n",
    "        if i not in alpha:\n",
    "            japenese+=i\n",
    "        i=f.readline(1)\n",
    "print(japenese)"
   ]
  },
  {
   "cell_type": "code",
   "execution_count": 9,
   "metadata": {},
   "outputs": [
    {
     "name": "stdout",
     "output_type": "stream",
     "text": [
      "EVENAMONKEYFALLSFROMATREE\n"
     ]
    }
   ],
   "source": [
    "#decoding japenese as every line's 1st letter combines for its translation\n",
    "trans=\"\"\n",
    "with open(\"D:\\A1_MeetS\\Python\\T3\\secretmessage.txt\",\"r\",encoding=\"utf-8\") as f:\n",
    "    i=f.readline()\n",
    "    while i:\n",
    "        trans+=i[0]\n",
    "        i=f.readline()\n",
    "print(trans)"
   ]
  },
  {
   "cell_type": "code",
   "execution_count": 12,
   "metadata": {},
   "outputs": [
    {
     "name": "stdout",
     "output_type": "stream",
     "text": [
      "0.7507185185185187\n"
     ]
    }
   ],
   "source": [
    "#wap from file \"{mbox-short.txt}\" and find avg of number after DSPAM_Confidence:\n",
    "total=[]\n",
    "with open(\"D:/A1_MeetS/Python/T3/mbox-short.txt\",\"r\") as f:\n",
    "    words=f.read().split()\n",
    "    for i in range(1,len(words)):\n",
    "        if \"DSPAM-Confidence\" in words[i-1]:\n",
    "            total.append(float(words[i]))\n",
    "print(sum(total)/len(total))"
   ]
  },
  {
   "cell_type": "code",
   "execution_count": 19,
   "metadata": {},
   "outputs": [
    {
     "name": "stdout",
     "output_type": "stream",
     "text": [
      "wagnermr@iupui.edu\n",
      "antranig@caret.cam.ac.uk\n",
      "cwen@iupui.edu\n",
      "louis@media.berkeley.edu\n",
      "gsilver@umich.edu\n",
      "rjlowe@iupui.edu\n",
      "stephen.marquard@uct.ac.za\n",
      "david.horwitz@uct.ac.za\n",
      "ray@media.berkeley.edu\n",
      "gopal.ramasammycook@gmail.com\n",
      "zqian@umich.edu\n"
     ]
    }
   ],
   "source": [
    "#extract email addresses (line starts with \"From\")\n",
    "email=set()\n",
    "with open(\"D:/A1_MeetS/Python/T3/mbox-short.txt\",\"r\") as f:\n",
    "    words=f.read().split()\n",
    "    for i in range(1,len(words)):\n",
    "        if \"From\" in words[i-1] and \"@\" in words[i]:\n",
    "            email.add(words[i])\n",
    "for i in email:\n",
    "    print(i)"
   ]
  }
 ],
 "metadata": {
  "kernelspec": {
   "display_name": "Python 3",
   "language": "python",
   "name": "python3"
  },
  "language_info": {
   "codemirror_mode": {
    "name": "ipython",
    "version": 3
   },
   "file_extension": ".py",
   "mimetype": "text/x-python",
   "name": "python",
   "nbconvert_exporter": "python",
   "pygments_lexer": "ipython3",
   "version": "3.8.5"
  }
 },
 "nbformat": 4,
 "nbformat_minor": 4
}
