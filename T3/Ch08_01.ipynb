{
 "cells": [
  {
   "cell_type": "code",
   "execution_count": 31,
   "metadata": {},
   "outputs": [
    {
     "name": "stdout",
     "output_type": "stream",
     "text": [
      "hehe\n",
      "<function Animal.tell_name at 0x000002E540FBBD30>\n",
      "This is an animal class\n",
      "Rachon\n",
      "Rachon\n",
      "<__main__.Animal object at 0x000002E540FBE880>\n"
     ]
    }
   ],
   "source": [
    "class Animal:\n",
    "    \"This is an animal class\"\n",
    "    speak=\"hehe\"\n",
    "    \n",
    "    def tell_name(self):\n",
    "        print(\"Rachon\")\n",
    "\n",
    "print(Animal.speak)\n",
    "print(Animal.tell_name)\n",
    "print(Animal.__doc__)\n",
    "Rochan = Animal()\n",
    "Rochan.tell_name()\n",
    "Animal.tell_name(Animal())\n",
    "print(Rochan)"
   ]
  },
  {
   "cell_type": "code",
   "execution_count": 32,
   "metadata": {},
   "outputs": [
    {
     "name": "stdout",
     "output_type": "stream",
     "text": [
      "Hello, hehe\n"
     ]
    }
   ],
   "source": [
    "class Animal:\n",
    "    \"This is an animal class\"\n",
    "    speak=\"hehe\"\n",
    "    \n",
    "#    just like JAVA's toString method\n",
    "    def __str__(self):\n",
    "        return f\"Hello, {self.speak}\"\n",
    "\n",
    "Rach=Animal()\n",
    "print(Rach)"
   ]
  },
  {
   "cell_type": "code",
   "execution_count": 34,
   "metadata": {},
   "outputs": [
    {
     "name": "stdout",
     "output_type": "stream",
     "text": [
      "Hello, Anshuman Award\n",
      "Hello, hehe\n"
     ]
    }
   ],
   "source": [
    "class Animal:\n",
    "    \"This is an animal class\"\n",
    "    speak=\"hehe\"\n",
    "    \n",
    "#    just like JAVA's toString method\n",
    "    def __str__(self):\n",
    "        return f\"Hello, {self.speak}\"\n",
    "\n",
    "Rach=Animal()\n",
    "Rach.speak=\"Anshuman Award\"\n",
    "print(Rach)\n",
    "Rocky=Animal()\n",
    "print(Rocky)"
   ]
  },
  {
   "cell_type": "code",
   "execution_count": 30,
   "metadata": {},
   "outputs": [
    {
     "name": "stdout",
     "output_type": "stream",
     "text": [
      "Calling the __init__() constructor!\n",
      "\n",
      "1\n",
      "2\n"
     ]
    }
   ],
   "source": [
    "class MyNum(object):\n",
    "    def __init__(self):\n",
    "        print(\"Calling the __init__() constructor!\\n\")\n",
    "        self.val = 0\n",
    "    def increment(self):\n",
    "        self.val = self.val + 1\n",
    "        print(self.val)\n",
    "        \n",
    "dd = MyNum()\n",
    "dd.increment()  # will print 1\n",
    "dd.increment()  # will print 2"
   ]
  },
  {
   "cell_type": "code",
   "execution_count": 29,
   "metadata": {},
   "outputs": [
    {
     "name": "stdout",
     "output_type": "stream",
     "text": [
      "Total Employee 1  1\n"
     ]
    }
   ],
   "source": [
    "class Employee: # Class definition                                                       \n",
    "    'Common base class for all employees' # Docstring                               \n",
    "    empCount = 0 # Class variable\n",
    "    def __init__(self, name, salary): # constructor method\n",
    "            self. name = name         # instance variable\n",
    "            self. salary = salary     # instance variable  \n",
    "            Employee. empCount += 1   \n",
    "    def displayCount(self):           # instance method\n",
    "        print (\"Total Employee %d\" % Employee. empCount + \"  %d\" % Employee. empCount)\n",
    "    \n",
    "    def displayEmployee(self):\n",
    "        print (\"Name : \", self. name,  \", Salary: \" , self. salary)\n",
    "    def __str__(self): #special method\n",
    "        return f'The name is {self.name} and salary is {self.salary}'\n",
    "    \n",
    "class Worker(Employee):\n",
    "        pass\n",
    "\n",
    "Employee.displayCount(Employee(\"Rach\",150))"
   ]
  },
  {
   "cell_type": "code",
   "execution_count": 4,
   "metadata": {},
   "outputs": [
    {
     "name": "stdout",
     "output_type": "stream",
     "text": [
      "Name: Samsuung, Screen Size: 100, Color: Black,OS: Tizen\n",
      "Name: GG, Screen Size: 65, Color: Green,OS: WebOS\n"
     ]
    }
   ],
   "source": [
    "#wap to create a TV class with OS variable as Android\n",
    "#initialize with 2 variable screen size and color\n",
    "#create 2 obj SAMSUUNG & GG with ss of 100 & 65 and Color: black & green\n",
    "#use proper string representation to display name of tv, ss, color and os\n",
    "#os of SAMSUUNG is Tizen & GG is WebOS\n",
    "\n",
    "class TV:\n",
    "    os=\"Android\"\n",
    "    \n",
    "    def __init__(self,name,screenSize,color,os):\n",
    "        self.screenSize=screenSize\n",
    "        self.color=color\n",
    "        self.name=name\n",
    "        self.os=os\n",
    "    def __str__(self):\n",
    "        return f\"Name: {self.name}, Screen Size: {self.screenSize}, Color: {self.color},OS: {self.os}\"\n",
    "\n",
    "Samsuung=TV(\"Samsuung\",\"100\",\"Black\",\"Tizen\")\n",
    "GG=TV(\"GG\",\"65\",\"Green\",\"WebOS\")\n",
    "print(Samsuung)\n",
    "print(GG)"
   ]
  },
  {
   "cell_type": "code",
   "execution_count": null,
   "metadata": {},
   "outputs": [],
   "source": []
  }
 ],
 "metadata": {
  "kernelspec": {
   "display_name": "Python 3",
   "language": "python",
   "name": "python3"
  },
  "language_info": {
   "codemirror_mode": {
    "name": "ipython",
    "version": 3
   },
   "file_extension": ".py",
   "mimetype": "text/x-python",
   "name": "python",
   "nbconvert_exporter": "python",
   "pygments_lexer": "ipython3",
   "version": "3.8.5"
  }
 },
 "nbformat": 4,
 "nbformat_minor": 4
}
