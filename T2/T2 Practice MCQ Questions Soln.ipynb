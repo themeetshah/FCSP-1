a) 5 8
c) Th*is is$ nothi&&ng b#ut excerc(is)e
c) Th*is is$ nothi&&ng b#ut excerc(is)e
a) g$o$l$
a) ['A', 'B', 'C#D#E']
d) pto
b) 0
a) 12
c) 12
a) 3
a) 11
c) 2.33 LJUN
a) 11
b) ['ab', 'cd']
a) [1, 2, 3] None [1, 2, 3, [1, 2, 3]]
c) Error
a) False 0 {1: 2, 3: 4, 5: 6}