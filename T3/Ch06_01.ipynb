{
 "cells": [
  {
   "cell_type": "markdown",
   "metadata": {},
   "source": [
    "# File Handling:"
   ]
  },
  {
   "cell_type": "markdown",
   "metadata": {},
   "source": [
    "## Read:"
   ]
  },
  {
   "cell_type": "code",
   "execution_count": 1,
   "metadata": {},
   "outputs": [
    {
     "data": {
      "text/plain": [
       "'Hello!\\nI am a Text File.\\nMy extension is .txt'"
      ]
     },
     "execution_count": 1,
     "metadata": {},
     "output_type": "execute_result"
    }
   ],
   "source": [
    "F=open(\"D:\\A1_MeetS/Python/T3\\Text_File.txt\")\n",
    "F.read()"
   ]
  },
  {
   "cell_type": "code",
   "execution_count": 2,
   "metadata": {},
   "outputs": [
    {
     "ename": "OSError",
     "evalue": "[Errno 22] Invalid argument: 'D:\\\\A1_MeetS/Python/T3\\nText_File.txt'",
     "output_type": "error",
     "traceback": [
      "\u001b[1;31m---------------------------------------------------------------------------\u001b[0m",
      "\u001b[1;31mOSError\u001b[0m                                   Traceback (most recent call last)",
      "\u001b[1;32m<ipython-input-2-485a4dada4d9>\u001b[0m in \u001b[0;36m<module>\u001b[1;34m\u001b[0m\n\u001b[1;32m----> 1\u001b[1;33m \u001b[0mF\u001b[0m\u001b[1;33m=\u001b[0m\u001b[0mopen\u001b[0m\u001b[1;33m(\u001b[0m\u001b[1;34m\"D:\\A1_MeetS/Python/T3\\nText_File.txt\"\u001b[0m\u001b[1;33m)\u001b[0m\u001b[1;33m\u001b[0m\u001b[1;33m\u001b[0m\u001b[0m\n\u001b[0m\u001b[0;32m      2\u001b[0m \u001b[0mF\u001b[0m\u001b[1;33m.\u001b[0m\u001b[0mread\u001b[0m\u001b[1;33m(\u001b[0m\u001b[1;33m)\u001b[0m\u001b[1;33m\u001b[0m\u001b[1;33m\u001b[0m\u001b[0m\n",
      "\u001b[1;31mOSError\u001b[0m: [Errno 22] Invalid argument: 'D:\\\\A1_MeetS/Python/T3\\nText_File.txt'"
     ]
    }
   ],
   "source": [
    "F=open(\"D:\\A1_MeetS/Python/T3\\nText_File.txt\")\n",
    "F.read()"
   ]
  },
  {
   "cell_type": "code",
   "execution_count": 6,
   "metadata": {},
   "outputs": [
    {
     "name": "stdout",
     "output_type": "stream",
     "text": [
      "Hello!\n",
      "I am a Text File.\n",
      "My extension is .txt\n"
     ]
    },
    {
     "data": {
      "text/plain": [
       "False"
      ]
     },
     "execution_count": 6,
     "metadata": {},
     "output_type": "execute_result"
    }
   ],
   "source": [
    "F=open(r\"D:\\A1_MeetS/Python/T3\\nText_File.txt\")\n",
    "print(F.read())\n",
    "F.closed"
   ]
  },
  {
   "cell_type": "code",
   "execution_count": 4,
   "metadata": {},
   "outputs": [
    {
     "data": {
      "text/plain": [
       "True"
      ]
     },
     "execution_count": 4,
     "metadata": {},
     "output_type": "execute_result"
    }
   ],
   "source": [
    "F.read()\n",
    "F.close()\n",
    "F.closed"
   ]
  },
  {
   "cell_type": "code",
   "execution_count": 8,
   "metadata": {},
   "outputs": [
    {
     "name": "stdout",
     "output_type": "stream",
     "text": [
      "Hello!\n",
      "I am a Text File.\n",
      "My extension is .txt\n",
      "😂😊🤣😁\n"
     ]
    }
   ],
   "source": [
    "# if the file contains any emojis, then it will return an error, if called without \"encoding\"\n",
    "F=open(\"D:/A1_MeetS/Python/T3/Text_File.txt\",encoding=\"utf-8\")\n",
    "print(F.read())"
   ]
  },
  {
   "cell_type": "code",
   "execution_count": 18,
   "metadata": {},
   "outputs": [
    {
     "name": "stdout",
     "output_type": "stream",
     "text": [
      "kasaa kaay\n",
      "kemonache\n",
      "kaay vediya\n",
      "chhotya devdut\n",
      "\n"
     ]
    }
   ],
   "source": [
    "F=open(\"D:/A1_MeetS/Python/T3/nText_File.txt\",encoding=\"utf-8\")\n",
    "print(F.read())"
   ]
  },
  {
   "cell_type": "code",
   "execution_count": 31,
   "metadata": {},
   "outputs": [
    {
     "name": "stdout",
     "output_type": "stream",
     "text": [
      "96\n"
     ]
    }
   ],
   "source": [
    "F=open(\"myfile.txt\",encoding=\"utf-8\")\n",
    "print(len(F.read()))"
   ]
  },
  {
   "cell_type": "markdown",
   "metadata": {},
   "source": [
    "## Readline:"
   ]
  },
  {
   "cell_type": "code",
   "execution_count": 27,
   "metadata": {},
   "outputs": [
    {
     "name": "stdout",
     "output_type": "stream",
     "text": [
      "96\n"
     ]
    }
   ],
   "source": [
    "F=open(\"D:/A1_MeetS/Python/T3/nText_File.txt\",encoding=\"utf-8\")\n",
    "i = F.readline(1)\n",
    "count=0\n",
    "while i:\n",
    "    count+=1\n",
    "    i = F.readline(1)\n",
    "else:\n",
    "    print(count)"
   ]
  },
  {
   "cell_type": "markdown",
   "metadata": {},
   "source": [
    "## Readlines:"
   ]
  },
  {
   "cell_type": "code",
   "execution_count": 10,
   "metadata": {},
   "outputs": [
    {
     "name": "stdout",
     "output_type": "stream",
     "text": [
      "['e\\n', 'kaay vediya\\n', 'chhotya devdut\\n', 'kasaa kaay1\\n']\n"
     ]
    }
   ],
   "source": [
    "# readlines returns the line(s) till which that number of element exists\n",
    "F=open(\"myfile.txt\",encoding=\"utf-8\")\n",
    "F.seek(19)\n",
    "print(F.readlines(33))\n",
    "F.close()"
   ]
  },
  {
   "cell_type": "code",
   "execution_count": 35,
   "metadata": {},
   "outputs": [],
   "source": [
    "file.readlines??"
   ]
  },
  {
   "cell_type": "markdown",
   "metadata": {},
   "source": [
    "## write:"
   ]
  },
  {
   "cell_type": "code",
   "execution_count": 14,
   "metadata": {},
   "outputs": [
    {
     "name": "stdout",
     "output_type": "stream",
     "text": [
      "Overwriting D:/A1_MeetS/Python/T3/nText_File.txt\n"
     ]
    }
   ],
   "source": [
    "%%writefile D:/A1_MeetS/Python/T3/nText_File.txt\n",
    "kasaa kaay\n",
    "kemonache\n",
    "kaay vediya\n",
    "chhotya devdut"
   ]
  },
  {
   "cell_type": "code",
   "execution_count": 11,
   "metadata": {},
   "outputs": [
    {
     "ename": "UnsupportedOperation",
     "evalue": "not writable",
     "output_type": "error",
     "traceback": [
      "\u001b[1;31m---------------------------------------------------------------------------\u001b[0m",
      "\u001b[1;31mUnsupportedOperation\u001b[0m                      Traceback (most recent call last)",
      "\u001b[1;32m<ipython-input-11-af9370a7d0b6>\u001b[0m in \u001b[0;36m<module>\u001b[1;34m\u001b[0m\n\u001b[0;32m      1\u001b[0m \u001b[0mfile\u001b[0m \u001b[1;33m=\u001b[0m \u001b[0mopen\u001b[0m\u001b[1;33m(\u001b[0m\u001b[1;34m\"myfile.txt\"\u001b[0m\u001b[1;33m)\u001b[0m\u001b[1;33m\u001b[0m\u001b[1;33m\u001b[0m\u001b[0m\n\u001b[1;32m----> 2\u001b[1;33m \u001b[0mfile\u001b[0m\u001b[1;33m.\u001b[0m\u001b[0mwrite\u001b[0m\u001b[1;33m(\u001b[0m\u001b[1;34m\"Helo\"\u001b[0m\u001b[1;33m)\u001b[0m\u001b[1;33m\u001b[0m\u001b[1;33m\u001b[0m\u001b[0m\n\u001b[0m",
      "\u001b[1;31mUnsupportedOperation\u001b[0m: not writable"
     ]
    }
   ],
   "source": [
    "# file = open(\"myfile.txt\")\n",
    "# file.write(\"Helo\")\n",
    "# UnsupportedOperation: not writable"
   ]
  },
  {
   "cell_type": "code",
   "execution_count": 17,
   "metadata": {},
   "outputs": [],
   "source": [
    "file = open(\"myfile.txt\",'r+') #r,r+,w,w+,a,a+\n",
    "file.write(\"Hum achha hoti\")\n",
    "file.close()"
   ]
  },
  {
   "cell_type": "markdown",
   "metadata": {},
   "source": [
    "## writelines:"
   ]
  },
  {
   "cell_type": "code",
   "execution_count": 22,
   "metadata": {},
   "outputs": [],
   "source": [
    "file = open(\"myfile.txt\",'w') #r,r+,w,w+,a,a+\n",
    "file.writelines([\"1\",\"2\",\"3\",\"4\"])\n",
    "file.writelines([\"1\",\"2\",\"3\",\"4\"])\n",
    "file.write(\"1234\")\n",
    "file.close()"
   ]
  },
  {
   "cell_type": "code",
   "execution_count": 32,
   "metadata": {},
   "outputs": [
    {
     "name": "stdout",
     "output_type": "stream",
     "text": [
      "Name: myfile.txt\n",
      "Closed: False\n",
      "Readable: False\n",
      "Writable: True\n",
      "Mode: a\n"
     ]
    }
   ],
   "source": [
    "f = open(\"myfile.txt\",'a')\n",
    "print(\"Name:\",f.name)\n",
    "print(\"Closed:\",f.closed)\n",
    "print(\"Readable:\",f.readable())\n",
    "print(\"Writable:\",f.writable())\n",
    "print(\"Mode:\",f.mode)\n",
    "f.close()"
   ]
  },
  {
   "cell_type": "markdown",
   "metadata": {},
   "source": [
    "## looping:"
   ]
  },
  {
   "cell_type": "code",
   "execution_count": 3,
   "metadata": {},
   "outputs": [
    {
     "name": "stdout",
     "output_type": "stream",
     "text": [
      "kasaa kaay\n",
      "kemonache\n",
      "kaay vediya\n",
      "chhotya devdut\n",
      "kasaa kaay1\n",
      "kemonache1\n",
      "kaay vediya1\n",
      "chhotya devdut1\n"
     ]
    }
   ],
   "source": [
    "f=open(\"myfile.txt\")\n",
    "\n",
    "for line in f:\n",
    "    for char in line:\n",
    "        print(char,end=\"\")\n",
    "else:\n",
    "    f.close()"
   ]
  },
  {
   "cell_type": "markdown",
   "metadata": {},
   "source": [
    "## with Contextual Manager:"
   ]
  },
  {
   "cell_type": "code",
   "execution_count": 19,
   "metadata": {},
   "outputs": [],
   "source": [
    "file_path = r\"D:/A1_MeetS/Python/T3/nText_File.txt\"\n",
    "\n",
    "# Open the file in append mode and write to it\n",
    "with open(file_path, \"a\", encoding=\"utf-8\") as file:\n",
    "    file.write(\"kasaa kaay\\n\")\n",
    "    file.write(\"kemonache\\n\")\n",
    "    file.write(\"kaay vediya\\n\")\n",
    "    file.write(\"chhotya devdut\\n\")"
   ]
  },
  {
   "cell_type": "markdown",
   "metadata": {},
   "source": [
    "## tell():"
   ]
  },
  {
   "cell_type": "markdown",
   "metadata": {},
   "source": [
    "### -this method returns the current position of the pointer"
   ]
  },
  {
   "cell_type": "code",
   "execution_count": 7,
   "metadata": {},
   "outputs": [
    {
     "name": "stdout",
     "output_type": "stream",
     "text": [
      "0\n",
      "kasaa kaay\n",
      "\n",
      "11\n"
     ]
    }
   ],
   "source": [
    "f=open(\"myfile.txt\")\n",
    "print(f.tell())\n",
    "print(f.readline())\n",
    "print(f.tell())"
   ]
  },
  {
   "cell_type": "markdown",
   "metadata": {},
   "source": [
    "## seek():"
   ]
  },
  {
   "cell_type": "code",
   "execution_count": 10,
   "metadata": {},
   "outputs": [
    {
     "name": "stdout",
     "output_type": "stream",
     "text": [
      "0\n",
      "kasaa kaay\n",
      "\n",
      "11\n",
      "23\n",
      "23\n",
      "ay vediya\n",
      "\n",
      "33\n"
     ]
    }
   ],
   "source": [
    "f=open(\"myfile.txt\")\n",
    "print(f.tell())\n",
    "print(f.readline())\n",
    "print(f.tell())\n",
    "print(f.seek(23))\n",
    "print(f.tell())\n",
    "print(f.readline())\n",
    "print(f.tell())\n",
    "f.close()"
   ]
  },
  {
   "cell_type": "code",
   "execution_count": 15,
   "metadata": {},
   "outputs": [
    {
     "name": "stdout",
     "output_type": "stream",
     "text": [
      "7\n",
      "['Sisters and Brothers of America,\\n', '\\n', 'It fills my heart with joy unspeakable to rise in response to the warm and cordial welcome which you have given us. I thank you in the name of the most ancient order of monks in the world; I thank you in the name of the mother of religions; and I thank you in the name of the millions and millions of Hindu people of all classes and sects.\\n', '\\n', 'My thanks, also, to some of the speakers on this platform who, referring to the delegates from the Orient, have told you that these men from far-off nations may well claim the honour of bearing to different lands the idea of toleration. I am proud to belong to a religion which has taught the world both tolerance and universal acceptance. We believe not only in universal toleration, but we accept all religions as true. I am proud to belong to a nation which has sheltered the persecuted and the refugees of all religions and all nations of the earth. I am proud to tell you that we have gathered in our bosom the purest remnant of the Israelites, who came to southern India and took refuge with us in the very year in which their holy temple was shattered to pieces by Roman tyranny. I am proud to belong to the religion which has sheltered and is still fostering the remnant of the grand Zoroastrian nation. I will quote to you, brethren, a few lines from a hymn which I remember to have repeated from my earliest boyhood, which is every day repeated by millions of human beings: ‘As the different streams having their sources in different places all mingle their water in the sea, so, O Lord, the different paths which men take through different tendencies, various though they appear, crooked or straight, all lead to Thee.’\\n', '\\n', 'The present convention, which is one of the most august assemblies ever held, is in itself a vindication, a declaration to the world, of the wonderful doctrine preached in the Gita: ‘Whosoever comes to Me, through whatsoever form, I reach him; all men are struggling through paths which in the end lead to Me.’ Sectarianism, bigotry, and its horrible descendant, fanaticism, have long possessed this beautiful earth. They have filled the earth with violence, drenched it often and often with human blood, destroyed civilization, and sent whole nations to despair. Had it not been for these horrible demons, human society would be far more advanced than it is now. But their time is come; and I fervently hope that the bell that tolled this morning in honour of this convention may be the death-knell of all fanaticism, of all persecutions with the sword or with the pen, and of all uncharitable feelings between persons wending their way to the same goal.\\n']\n"
     ]
    }
   ],
   "source": [
    "#wap to count no. of lines\n",
    "F=open(\"D:/A1_MeetS/Python/T3/Swami_Vivekananda_speech.txt\",encoding=\"utf-8\")\n",
    "i=F.readlines()\n",
    "print(len(i))\n",
    "print(i)"
   ]
  },
  {
   "cell_type": "code",
   "execution_count": 18,
   "metadata": {},
   "outputs": [
    {
     "name": "stdout",
     "output_type": "stream",
     "text": [
      "2212\n",
      "6375\n",
      "3819\n",
      "5131\n",
      "5123\n",
      "2362\n",
      "2155\n",
      "5251\n",
      "3411\n",
      "5924\n",
      "2111\n",
      "4211\n",
      "4211\n",
      "5672\n",
      "9814\n",
      "4611\n",
      "4268\n",
      "5421\n",
      "2247\n",
      "4271\n"
     ]
    }
   ],
   "source": [
    "#wap to return the expenses>2000 from expense.txt\n",
    "with open(\"D:\\A1_MeetS\\Python\\T3\\worked_exercises_text_files\\expenses.txt\") as f:\n",
    "    i=f.readline()\n",
    "    while i:\n",
    "        val=int(i)\n",
    "        if val>2000:\n",
    "            print(val)\n",
    "        i=f.readline()"
   ]
  },
  {
   "cell_type": "code",
   "execution_count": 22,
   "metadata": {},
   "outputs": [],
   "source": [
    "#wap to read expense file and add 10% tax to it and create a new file with modified amount\n",
    "file1=open(\"D:\\A1_MeetS\\Python\\T3\\worked_exercises_text_files\\with_tax.txt\",\"a+\")\n",
    "with open(\"D:\\A1_MeetS\\Python\\T3\\worked_exercises_text_files\\expenses.txt\") as f:\n",
    "    i=f.readline()\n",
    "    while i:\n",
    "        val=int(i)\n",
    "        new_val=val+(0.1*val)\n",
    "        file1.write(f\"{new_val}\\n\")\n",
    "        i=f.readline()\n",
    "    else:\n",
    "        file1.close()"
   ]
  },
  {
   "cell_type": "code",
   "execution_count": null,
   "metadata": {},
   "outputs": [],
   "source": []
  }
 ],
 "metadata": {
  "kernelspec": {
   "display_name": "Python 3",
   "language": "python",
   "name": "python3"
  },
  "language_info": {
   "codemirror_mode": {
    "name": "ipython",
    "version": 3
   },
   "file_extension": ".py",
   "mimetype": "text/x-python",
   "name": "python",
   "nbconvert_exporter": "python",
   "pygments_lexer": "ipython3",
   "version": "3.8.5"
  }
 },
 "nbformat": 4,
 "nbformat_minor": 4
}
