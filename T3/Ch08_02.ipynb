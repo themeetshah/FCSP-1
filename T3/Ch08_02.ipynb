{
 "cells": [
  {
   "cell_type": "markdown",
   "metadata": {},
   "source": [
    "# Exception Handling"
   ]
  },
  {
   "cell_type": "code",
   "execution_count": null,
   "metadata": {},
   "outputs": [],
   "source": [
    "import builtins\n",
    "help(builtins)"
   ]
  },
  {
   "cell_type": "markdown",
   "metadata": {},
   "source": [
    "## Syntax Error\n",
    "## Indentation Error"
   ]
  },
  {
   "cell_type": "markdown",
   "metadata": {},
   "source": [
    "## Runtime Error \n",
    "### TypeError\n",
    "### ImportError\n",
    "### ModuleError\n",
    "### LookupError: Index Error(Index not found), Key Error(Key not found)\n",
    "### NameError (Variable not defined)\n",
    "### ValueError (float('one'): Can't convert String to Float)\n",
    "### AttributeError\n",
    "### ArithmeticError: ZeroDivisionError(1/0), OverflowError(10.0**1000)\n",
    "### RecursionError (infinite recursion)\n",
    "### StopIterationError \n",
    "### FileError: FileNotFoundError, PermissionError"
   ]
  },
  {
   "cell_type": "code",
   "execution_count": 1,
   "metadata": {},
   "outputs": [
    {
     "name": "stdout",
     "output_type": "stream",
     "text": [
      "Hello\n",
      "Python\n"
     ]
    }
   ],
   "source": [
    "try:\n",
    "    print(\"Hello\")\n",
    "    print(z)\n",
    "except:\n",
    "    print(\"Python\")"
   ]
  },
  {
   "cell_type": "code",
   "execution_count": 10,
   "metadata": {},
   "outputs": [
    {
     "name": "stdout",
     "output_type": "stream",
     "text": [
      "Daal bhai: 5+3y\n",
      "Python\n"
     ]
    }
   ],
   "source": [
    "try:\n",
    "    x=eval(input(\"Daal bhai: \"))\n",
    "except SyntaxError as e:\n",
    "    print(\"Python\")"
   ]
  },
  {
   "cell_type": "code",
   "execution_count": 13,
   "metadata": {},
   "outputs": [
    {
     "name": "stdout",
     "output_type": "stream",
     "text": [
      "Daal bhai: 3\n",
      "Running coz succeded\n",
      "Running coz finally\n"
     ]
    }
   ],
   "source": [
    "try:\n",
    "    x=eval(input(\"Daal bhai: \"))\n",
    "except SyntaxError as e:\n",
    "    print(\"Python\")\n",
    "else:\n",
    "    print(\"Running coz succeded\")\n",
    "finally:\n",
    "    print(\"Running coz finally\")"
   ]
  },
  {
   "cell_type": "markdown",
   "metadata": {},
   "source": [
    "## Raise Exception"
   ]
  },
  {
   "cell_type": "code",
   "execution_count": 14,
   "metadata": {},
   "outputs": [
    {
     "ename": "RuntimeError",
     "evalue": "Mujhe kyu toda?",
     "output_type": "error",
     "traceback": [
      "\u001b[1;31m---------------------------------------------------------------------------\u001b[0m",
      "\u001b[1;31mRuntimeError\u001b[0m                              Traceback (most recent call last)",
      "\u001b[1;32m<ipython-input-14-37a7b1d62a3d>\u001b[0m in \u001b[0;36m<module>\u001b[1;34m\u001b[0m\n\u001b[1;32m----> 1\u001b[1;33m \u001b[1;32mraise\u001b[0m \u001b[0mRuntimeError\u001b[0m\u001b[1;33m(\u001b[0m\u001b[1;34m\"Mujhe kyu toda?\"\u001b[0m\u001b[1;33m)\u001b[0m\u001b[1;33m\u001b[0m\u001b[1;33m\u001b[0m\u001b[0m\n\u001b[0m",
      "\u001b[1;31mRuntimeError\u001b[0m: Mujhe kyu toda?"
     ]
    }
   ],
   "source": [
    "raise RuntimeError(\"Mujhe kyu toda?\")"
   ]
  },
  {
   "cell_type": "code",
   "execution_count": 1,
   "metadata": {},
   "outputs": [
    {
     "name": "stdout",
     "output_type": "stream",
     "text": [
      "1. add\n",
      "2. search\n",
      "3. delete\n",
      "4. update\n",
      "5. display\n",
      "6. Exit\n",
      "Enter choice: 1\n",
      "Enter name: rizz\n",
      "Enter roll: 69\n",
      "Enter m1: 31\n",
      "Enter m2: 21\n",
      "1. add\n",
      "2. search\n",
      "3. delete\n",
      "4. update\n",
      "5. display\n",
      "6. Exit\n",
      "Enter choice: 3\n",
      "Enter roll: 69\n",
      "1. add\n",
      "2. search\n",
      "3. delete\n",
      "4. update\n",
      "5. display\n",
      "6. Exit\n",
      "Enter choice: 5\n",
      "1. add\n",
      "2. search\n",
      "3. delete\n",
      "4. update\n",
      "5. display\n",
      "6. Exit\n",
      "Enter choice: 6\n"
     ]
    }
   ],
   "source": [
    "# PB566\n",
    "\n",
    "Stud=[]\n",
    "class Student:\n",
    "    def accept(self,name,roll,m1,m2):\n",
    "        self.name=name\n",
    "        self.roll=roll\n",
    "        self.m1=m1\n",
    "        self.m2=m2\n",
    "        Stud.append(self)\n",
    "\n",
    "    def display():\n",
    "        for i in Stud:\n",
    "            print(\"Name :\",i.name,\"\\nRollNo :\",i.roll,\"\\nMarks1 :\",i.m1,\"\\nMarks2 :\",i.m2)\n",
    "\n",
    "    def search(roll):\n",
    "        for i in Stud:\n",
    "            if i.roll==roll:\n",
    "                print(\"Student Found\")\n",
    "                print(\"Name :\",i.name,\"\\nRollNo :\",i.roll,\"\\nMarks1 :\",i.m1,\"\\nMarks2 :\",i.m2)\n",
    "                break\n",
    "        else:\n",
    "            print(\"Student Not Found\")\n",
    "    \n",
    "    def delete(roll):\n",
    "         for i in Stud:\n",
    "            if i.roll==roll:\n",
    "                Stud.remove(i)\n",
    "\n",
    "    def update(oroll,nroll):\n",
    "        for i in Stud:\n",
    "            if i.roll==oroll:\n",
    "                i.roll=nroll\n",
    "                break\n",
    "        else:\n",
    "            print(\"Student Not Found\")\n",
    "    \n",
    "    def __init__(self,name,roll,m1,m2):\n",
    "        self.accept(name,roll,m1,m2)\n",
    "\n",
    "while True:\n",
    "    print(\"1. add\")\n",
    "    print(\"2. search\")\n",
    "    print(\"3. delete\")\n",
    "    print(\"4. update\")\n",
    "    print(\"5. display\")\n",
    "    print(\"6. Exit\")\n",
    "    n=int(input(\"Enter choice: \"))\n",
    "    if n==1:\n",
    "        name=input(\"Enter name: \")\n",
    "        roll=input(\"Enter roll: \")\n",
    "        m1=input(\"Enter m1: \")\n",
    "        m2=input(\"Enter m2: \")\n",
    "        S1=Student(name,roll,m1,m2)\n",
    "    elif n==2:\n",
    "        roll=input(\"Enter roll: \")\n",
    "        Student.search(roll)\n",
    "    elif n==3:\n",
    "        roll=input(\"Enter roll: \")\n",
    "        Student.delete(roll)\n",
    "    elif n==4:\n",
    "        oroll=input(\"Enter oroll: \")\n",
    "        nroll=input(\"Enter nroll: \")\n",
    "        Student.update(oroll,nroll)\n",
    "    elif n==5:\n",
    "        Student.display()\n",
    "    elif n==6:\n",
    "        break\n",
    "    else:\n",
    "        print(\"Enter valid\")"
   ]
  },
  {
   "cell_type": "code",
   "execution_count": 2,
   "metadata": {},
   "outputs": [
    {
     "name": "stdout",
     "output_type": "stream",
     "text": [
      "Deno: 5\n",
      "Nume: 15\n"
     ]
    },
    {
     "ename": "RecursionError",
     "evalue": "maximum recursion depth exceeded in comparison",
     "output_type": "error",
     "traceback": [
      "\u001b[1;31m---------------------------------------------------------------------------\u001b[0m",
      "\u001b[1;31mRecursionError\u001b[0m                            Traceback (most recent call last)",
      "\u001b[1;32m<ipython-input-2-4c83b2707ce9>\u001b[0m in \u001b[0;36m<module>\u001b[1;34m\u001b[0m\n\u001b[0;32m     16\u001b[0m         \u001b[0mfactors\u001b[0m\u001b[1;33m(\u001b[0m\u001b[0mnum\u001b[0m\u001b[1;33m,\u001b[0m\u001b[0mi\u001b[0m\u001b[1;33m+\u001b[0m\u001b[1;36m1\u001b[0m\u001b[1;33m,\u001b[0m\u001b[0mog\u001b[0m\u001b[1;33m)\u001b[0m\u001b[1;33m\u001b[0m\u001b[1;33m\u001b[0m\u001b[0m\n\u001b[0;32m     17\u001b[0m \u001b[1;33m\u001b[0m\u001b[0m\n\u001b[1;32m---> 18\u001b[1;33m \u001b[0mfactors\u001b[0m\u001b[1;33m(\u001b[0m\u001b[0mdeno\u001b[0m\u001b[1;33m,\u001b[0m\u001b[1;36m1\u001b[0m\u001b[1;33m,\u001b[0m\u001b[0mdeno\u001b[0m\u001b[1;33m)\u001b[0m\u001b[1;33m\u001b[0m\u001b[1;33m\u001b[0m\u001b[0m\n\u001b[0m\u001b[0;32m     19\u001b[0m \u001b[0mfactors\u001b[0m\u001b[1;33m(\u001b[0m\u001b[0mnume\u001b[0m\u001b[1;33m,\u001b[0m\u001b[1;36m1\u001b[0m\u001b[1;33m,\u001b[0m\u001b[0mnume\u001b[0m\u001b[1;33m)\u001b[0m\u001b[1;33m\u001b[0m\u001b[1;33m\u001b[0m\u001b[0m\n\u001b[0;32m     20\u001b[0m \u001b[1;33m\u001b[0m\u001b[0m\n",
      "\u001b[1;32m<ipython-input-2-4c83b2707ce9>\u001b[0m in \u001b[0;36mfactors\u001b[1;34m(num, i, og)\u001b[0m\n\u001b[0;32m     12\u001b[0m     \u001b[1;32melif\u001b[0m \u001b[0mnum\u001b[0m\u001b[1;33m%\u001b[0m\u001b[0mi\u001b[0m\u001b[1;33m==\u001b[0m\u001b[1;36m0\u001b[0m\u001b[1;33m:\u001b[0m\u001b[1;33m\u001b[0m\u001b[1;33m\u001b[0m\u001b[0m\n\u001b[0;32m     13\u001b[0m         \u001b[0mdeno_f\u001b[0m\u001b[1;33m.\u001b[0m\u001b[0mappend\u001b[0m\u001b[1;33m(\u001b[0m\u001b[0mi\u001b[0m\u001b[1;33m)\u001b[0m\u001b[1;33m\u001b[0m\u001b[1;33m\u001b[0m\u001b[0m\n\u001b[1;32m---> 14\u001b[1;33m         \u001b[0mfactors\u001b[0m\u001b[1;33m(\u001b[0m\u001b[0mnum\u001b[0m\u001b[1;33m//\u001b[0m\u001b[0mi\u001b[0m\u001b[1;33m,\u001b[0m\u001b[1;36m1\u001b[0m\u001b[1;33m,\u001b[0m\u001b[0mog\u001b[0m\u001b[1;33m)\u001b[0m\u001b[1;33m\u001b[0m\u001b[1;33m\u001b[0m\u001b[0m\n\u001b[0m\u001b[0;32m     15\u001b[0m     \u001b[1;32melse\u001b[0m\u001b[1;33m:\u001b[0m\u001b[1;33m\u001b[0m\u001b[1;33m\u001b[0m\u001b[0m\n\u001b[0;32m     16\u001b[0m         \u001b[0mfactors\u001b[0m\u001b[1;33m(\u001b[0m\u001b[0mnum\u001b[0m\u001b[1;33m,\u001b[0m\u001b[0mi\u001b[0m\u001b[1;33m+\u001b[0m\u001b[1;36m1\u001b[0m\u001b[1;33m,\u001b[0m\u001b[0mog\u001b[0m\u001b[1;33m)\u001b[0m\u001b[1;33m\u001b[0m\u001b[1;33m\u001b[0m\u001b[0m\n",
      "... last 1 frames repeated, from the frame below ...\n",
      "\u001b[1;32m<ipython-input-2-4c83b2707ce9>\u001b[0m in \u001b[0;36mfactors\u001b[1;34m(num, i, og)\u001b[0m\n\u001b[0;32m     12\u001b[0m     \u001b[1;32melif\u001b[0m \u001b[0mnum\u001b[0m\u001b[1;33m%\u001b[0m\u001b[0mi\u001b[0m\u001b[1;33m==\u001b[0m\u001b[1;36m0\u001b[0m\u001b[1;33m:\u001b[0m\u001b[1;33m\u001b[0m\u001b[1;33m\u001b[0m\u001b[0m\n\u001b[0;32m     13\u001b[0m         \u001b[0mdeno_f\u001b[0m\u001b[1;33m.\u001b[0m\u001b[0mappend\u001b[0m\u001b[1;33m(\u001b[0m\u001b[0mi\u001b[0m\u001b[1;33m)\u001b[0m\u001b[1;33m\u001b[0m\u001b[1;33m\u001b[0m\u001b[0m\n\u001b[1;32m---> 14\u001b[1;33m         \u001b[0mfactors\u001b[0m\u001b[1;33m(\u001b[0m\u001b[0mnum\u001b[0m\u001b[1;33m//\u001b[0m\u001b[0mi\u001b[0m\u001b[1;33m,\u001b[0m\u001b[1;36m1\u001b[0m\u001b[1;33m,\u001b[0m\u001b[0mog\u001b[0m\u001b[1;33m)\u001b[0m\u001b[1;33m\u001b[0m\u001b[1;33m\u001b[0m\u001b[0m\n\u001b[0m\u001b[0;32m     15\u001b[0m     \u001b[1;32melse\u001b[0m\u001b[1;33m:\u001b[0m\u001b[1;33m\u001b[0m\u001b[1;33m\u001b[0m\u001b[0m\n\u001b[0;32m     16\u001b[0m         \u001b[0mfactors\u001b[0m\u001b[1;33m(\u001b[0m\u001b[0mnum\u001b[0m\u001b[1;33m,\u001b[0m\u001b[0mi\u001b[0m\u001b[1;33m+\u001b[0m\u001b[1;36m1\u001b[0m\u001b[1;33m,\u001b[0m\u001b[0mog\u001b[0m\u001b[1;33m)\u001b[0m\u001b[1;33m\u001b[0m\u001b[1;33m\u001b[0m\u001b[0m\n",
      "\u001b[1;31mRecursionError\u001b[0m: maximum recursion depth exceeded in comparison"
     ]
    }
   ],
   "source": [
    "deno=int(input(\"Deno: \"))\n",
    "nume=int(input(\"Nume: \"))\n",
    "\n",
    "deno_f=[]\n",
    "nume_f=[]\n",
    "\n",
    "def factors(num,i,og):\n",
    "    if i==og:\n",
    "        if len(deno_f)==1:\n",
    "            deno_f.append(og)\n",
    "        return\n",
    "    elif num%i==0:\n",
    "        deno_f.append(i)\n",
    "        factors(num//i,1,og)\n",
    "    else:\n",
    "        factors(num,i+1,og)\n",
    "\n",
    "factors(deno,1,deno)\n",
    "factors(nume,1,nume)\n",
    "\n",
    "for i in deno_f:\n",
    "    if i in nume_f:\n",
    "        nume_f.remove(i)\n",
    "        deno_f.remove(i)\n",
    "num=1\n",
    "den=1\n",
    "for i in nume_f:\n",
    "    num*=i\n",
    "for i in deno_f:\n",
    "    deno*=i\n",
    "print(num+\"/\"+den)"
   ]
  }
 ],
 "metadata": {
  "kernelspec": {
   "display_name": "Python 3",
   "language": "python",
   "name": "python3"
  },
  "language_info": {
   "codemirror_mode": {
    "name": "ipython",
    "version": 3
   },
   "file_extension": ".py",
   "mimetype": "text/x-python",
   "name": "python",
   "nbconvert_exporter": "python",
   "pygments_lexer": "ipython3",
   "version": "3.8.5"
  }
 },
 "nbformat": 4,
 "nbformat_minor": 4
}
