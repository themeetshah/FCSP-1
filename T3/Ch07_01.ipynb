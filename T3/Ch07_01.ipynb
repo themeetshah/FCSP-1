{
 "cells": [
  {
   "cell_type": "markdown",
   "metadata": {},
   "source": [
    "# CT Module and OS"
   ]
  },
  {
   "cell_type": "markdown",
   "metadata": {},
   "source": [
    "#### A module is a file consisting of python code. It can define fxns, classes and variables."
   ]
  },
  {
   "cell_type": "code",
   "execution_count": 4,
   "metadata": {},
   "outputs": [],
   "source": [
    "#wap to create file to print HelloWorld and name must be mod\n",
    "with open(\"D:/A1_MeetS/Python/T3/mod.py\",\"w\") as f:\n",
    "    f.write(\"print('Hello World')\")"
   ]
  },
  {
   "cell_type": "code",
   "execution_count": 7,
   "metadata": {},
   "outputs": [
    {
     "name": "stdout",
     "output_type": "stream",
     "text": [
      "Overwriting mod.py\n"
     ]
    }
   ],
   "source": [
    "%%writefile mod.py\n",
    "print(\"Hello World\")\n",
    "a=100\n",
    "def fun():\n",
    "    return(\"Hello\")\n",
    "b=[100,200,300]"
   ]
  },
  {
   "cell_type": "code",
   "execution_count": 10,
   "metadata": {},
   "outputs": [
    {
     "name": "stdout",
     "output_type": "stream",
     "text": [
      "100\n",
      "[100, 200, 300]\n",
      "Hello\n"
     ]
    }
   ],
   "source": [
    "import mod\n",
    "print(mod.a)\n",
    "print(mod.b)\n",
    "print(mod.fun())"
   ]
  },
  {
   "cell_type": "code",
   "execution_count": 1,
   "metadata": {},
   "outputs": [
    {
     "name": "stdout",
     "output_type": "stream",
     "text": [
      "Hello World\n",
      "[100, 200, 300]\n",
      "100\n"
     ]
    }
   ],
   "source": [
    "from mod import b,a\n",
    "print(b)\n",
    "print(a)"
   ]
  },
  {
   "cell_type": "code",
   "execution_count": 7,
   "metadata": {},
   "outputs": [
    {
     "name": "stdout",
     "output_type": "stream",
     "text": [
      "C:\\Users\\LJENG\\MeetS\n",
      "['.ipynb_checkpoints', 'Ch06_01.ipynb', 'Ch06_02.ipynb', 'Ch06_03.ipynb', 'Ch07_01.ipynb', 'mod.py', 'myfile.txt', '__pycache__']\n",
      "None\n",
      "None\n"
     ]
    }
   ],
   "source": [
    "import os\n",
    "print(os.getcwd()) #current working directory\n",
    "print(os.listdir()) #list all dir\n",
    "print(os.makedirs(\"newone\")) #make dir\n",
    "print(os.chdir(\"D:/\")) #change dir\n",
    "print(os.rmdir(\"newone\")) #remove dir\n",
    "print(os.remove(\"newone\")) #remove dir"
   ]
  },
  {
   "cell_type": "code",
   "execution_count": null,
   "metadata": {},
   "outputs": [],
   "source": []
  }
 ],
 "metadata": {
  "kernelspec": {
   "display_name": "Python 3",
   "language": "python",
   "name": "python3"
  },
  "language_info": {
   "codemirror_mode": {
    "name": "ipython",
    "version": 3
   },
   "file_extension": ".py",
   "mimetype": "text/x-python",
   "name": "python",
   "nbconvert_exporter": "python",
   "pygments_lexer": "ipython3",
   "version": "3.8.5"
  }
 },
 "nbformat": 4,
 "nbformat_minor": 4
}
