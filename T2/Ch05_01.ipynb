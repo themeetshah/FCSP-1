{
 "cells": [
  {
   "cell_type": "markdown",
   "metadata": {},
   "source": [
    "# LIST:"
   ]
  },
  {
   "cell_type": "markdown",
   "metadata": {},
   "source": [
    "### -- list is a homogeneous, dynamic, mutalble datastructure in python.\n"
   ]
  },
  {
   "cell_type": "markdown",
   "metadata": {},
   "source": [
    "### -- It can be nested, can have duplicate, and can be sliced"
   ]
  },
  {
   "cell_type": "code",
   "execution_count": 73,
   "metadata": {},
   "outputs": [
    {
     "name": "stdout",
     "output_type": "stream",
     "text": [
      "[1, 2, 3, 1, 2, 3, 1, 2, 3]\n",
      "[1, 2, 3, 4, 5, 6]\n",
      "3\n"
     ]
    }
   ],
   "source": [
    "L1=[1,2,3]\n",
    "L2=[4,5,6]\n",
    "print(L1*3)\n",
    "print(L1+L2)"
   ]
  },
  {
   "cell_type": "code",
   "execution_count": 12,
   "metadata": {},
   "outputs": [
    {
     "name": "stdout",
     "output_type": "stream",
     "text": [
      "[1, 2, 3]\n",
      "[21, 2, 3]\n"
     ]
    }
   ],
   "source": [
    "L=[1,2,3]\n",
    "M=L[:]\n",
    "M[0]=14\n",
    "print(L)\n",
    "M=L\n",
    "M[0]=21\n",
    "print(L)"
   ]
  },
  {
   "cell_type": "code",
   "execution_count": 62,
   "metadata": {},
   "outputs": [
    {
     "name": "stdout",
     "output_type": "stream",
     "text": [
      "[1, 2, 3, 4, 5, [1, 2, 3, 1]]\n",
      "3\n",
      "[]\n",
      "[11, 22, 33, 44, 55, 11, 12, 13, 14, '15', 'H', 'E', 'l', 'l', 'o']\n",
      "[11, 22, 33, 44, 55, 11, 12, 13, 14, '15', 'H', 'E', 'l', 'l', 'o', 100]\n",
      "[11, 22, 33, 44, 55, 11, 12, 13, 14, '15', 'H', 'E', 'l', 'l', 'o', 200]\n",
      "[11, 22, 33, 44, 55, 11, 12, 13, 14, '15', 'H', 'l', 'l', 'o']\n",
      "[22, 33, 44, 55, 11, 12, 13, 14, '15', 'H', 'l', 'l', 'o']\n",
      "['o', 'l', 'l', 'H', '15', 14, 13, 12, 11, 55, 44, 33, 22]\n",
      "[14, 13, 12, 11, 55, 44, 33, 22]\n",
      "[11, 12, 13, 14, 22, 33, 44, 55]\n",
      "['aaa', 'aa', 'bb', 'cc']\n"
     ]
    }
   ],
   "source": [
    "L=[1,2,3,4,5]\n",
    "#L.append([11,21,31,41],101) #error: append takes only one argument\n",
    "L.append([1,2,3,1])\n",
    "print(L)\n",
    "print(L[5].count(1)+L.count(1))\n",
    "L.clear()\n",
    "print(L)\n",
    "L.extend([11,22,33,44,55,11,12,13,14,\"15\"])\n",
    "L.extend(\"HEllo\")\n",
    "print(L)\n",
    "L.insert(50,100) #if index not present then it will insert at last index\n",
    "print(L)\n",
    "L[L.index(100)]=200\n",
    "print(L)\n",
    "L.pop() #removes & returns last element\n",
    "L.pop(11) #removes & returns element at that index\n",
    "print(L)\n",
    "L.remove(11) #removes the first occurance if that element\n",
    "print(L)\n",
    "L.reverse()\n",
    "print(L)\n",
    "#L.remove(\"Hello\") #ValueError: x not in list\n",
    "L.remove(\"H\")\n",
    "L.remove(\"l\")\n",
    "L.remove(\"l\")\n",
    "L.remove(\"o\")\n",
    "L.remove(\"15\")\n",
    "print(L)\n",
    "L.sort()\n",
    "print(L)\n",
    "L.clear()\n",
    "L.extend([\"aa\",\"bb\",'cc',\"aaa\"])\n",
    "L.sort(key=len, reverse=True)\n",
    "print(L)"
   ]
  },
  {
   "cell_type": "code",
   "execution_count": 66,
   "metadata": {},
   "outputs": [
    {
     "data": {
      "text/plain": [
       "'cc'"
      ]
     },
     "execution_count": 66,
     "metadata": {},
     "output_type": "execute_result"
    }
   ],
   "source": [
    "def getLast(ls:list)->int:\n",
    "    return ls[len(ls)-1]\n",
    "\n",
    "getLast(L)"
   ]
  },
  {
   "cell_type": "code",
   "execution_count": 71,
   "metadata": {},
   "outputs": [
    {
     "name": "stdout",
     "output_type": "stream",
     "text": [
      "enter list: [1,1,2,\"la\"],[\"laa\",\"!1\",11]\n",
      "([1, 1, 2, 'la'], ['laa', '!1', 11])\n",
      "<class 'tuple'>\n"
     ]
    }
   ],
   "source": [
    "L1 = eval(input(\"enter list: \"))\n",
    "print(L1)\n",
    "print(type(L1))"
   ]
  },
  {
   "cell_type": "code",
   "execution_count": 88,
   "metadata": {},
   "outputs": [
    {
     "name": "stdout",
     "output_type": "stream",
     "text": [
      "enter rating: [2,1,2]\n",
      "[2, 1, 2]\n",
      "Min. chocolates: 5\n"
     ]
    }
   ],
   "source": [
    "#There are n children standing in a line.\n",
    "#Each child is assigned a rating given in integer array\n",
    "#You are giving chocolates to these children based on following req.\n",
    "# 1. Each child must have 1 chocolate\n",
    "# 2. Children with higher rating get more chocolate then their neighbours\n",
    "# 3. Return the minimum no. of chocolates u need to have to distribute\n",
    "\n",
    "rating = eval(input(\"enter rating: \"))\n",
    "\n",
    "#condition1:\n",
    "chocolates = [1]*len(rating)\n",
    "\n",
    "#condition2:\n",
    "for i in range(len(rating)-1):\n",
    "    if rating[i]>rating[i+1]:\n",
    "        chocolates[i]+=1\n",
    "    elif rating[i]<rating[i+1]:\n",
    "        chocolates[i+1]+=1\n",
    "else:\n",
    "    print(chocolates)\n",
    "    print(\"Min. chocolates:\",sum(chocolates))"
   ]
  },
  {
   "cell_type": "code",
   "execution_count": null,
   "metadata": {},
   "outputs": [
    {
     "name": "stdout",
     "output_type": "stream",
     "text": [
      "John: 10\n",
      "Bob: 20\n",
      "Years: 2 , John: 90 ,Bob: 80\n"
     ]
    }
   ],
   "source": [
    "#dear john wants to become the largest for atleast become larger than his brother bob\n",
    "#rn their weights are a and b resp.\n",
    "#it is guaranteed that john's weight is <= his bro's weight\n",
    "#john eats a lot and his weight is tripled every year while bob's weight gets doubled every yr.\n",
    "#after how many yrs john will become strictly larger than bob\n",
    "\n",
    "a=int(input(\"John: \"))\n",
    "b=int(input(\"Bob: \"))\n",
    "year=0\n",
    "while a<=b:\n",
    "    year+=1\n",
    "    b=2*b\n",
    "    a=3*a\n",
    "else:\n",
    "    print(\"Years:\",year,\", John:\",a,\",Bob:\",b)"
   ]
  },
  {
   "cell_type": "code",
   "execution_count": null,
   "metadata": {},
   "outputs": [
    {
     "ename": "",
     "evalue": "",
     "output_type": "error",
     "traceback": [
      "\u001b[1;31mRunning cells with 'Python 3.12.5' requires the ipykernel package.\n",
      "\u001b[1;31mRun the following command to install 'ipykernel' into the Python environment. \n",
      "\u001b[1;31mCommand: 'c:/Users/Meet/AppData/Local/Programs/Python/Python312/python.exe -m pip install ipykernel -U --user --force-reinstall'"
     ]
    }
   ],
   "source": [
    "#i/p: 1+3+2+5+3+2+1+5\n",
    "#o/p: 1+1+2+2+3+3+5+5\n",
    "inp=input(\"enter: \")\n",
    "l=list(inp.split(\"+\"))\n",
    "l.sorted()\n",
    "out=\"+\".join(l)\n",
    "print(out)"
   ]
  },
  {
   "cell_type": "code",
   "execution_count": null,
   "metadata": {},
   "outputs": [],
   "source": [
    "#518A Codeforces"
   ]
  }
 ],
 "metadata": {
  "kernelspec": {
   "display_name": "Python 3",
   "language": "python",
   "name": "python3"
  },
  "language_info": {
   "codemirror_mode": {
    "name": "ipython",
    "version": 3
   },
   "file_extension": ".py",
   "mimetype": "text/x-python",
   "name": "python",
   "nbconvert_exporter": "python",
   "pygments_lexer": "ipython3",
   "version": "3.12.5"
  }
 },
 "nbformat": 4,
 "nbformat_minor": 4
}
