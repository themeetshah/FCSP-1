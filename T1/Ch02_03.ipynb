{
 "cells": [
  {
   "cell_type": "code",
   "execution_count": 8,
   "metadata": {},
   "outputs": [
    {
     "name": "stdout",
     "output_type": "stream",
     "text": [
      "Enter score 1: 1\n",
      "Enter score 2: 3\n",
      "Enter score 3: 25\n",
      "Enter score 4: 22\n",
      "Enter score 5: 15\n",
      "Enter score 6: 26\n",
      "Enter score 7: -5\n",
      "Enter score 8: 0\n",
      "Enter score 9: -2\n",
      "Enter score 10: -8\n",
      "1. highest: 26, lowest: -8\n",
      "2. average: 7.7\n",
      "3. 2nd highest: 25, 2nd lowest: -5\n",
      "4. \n",
      "5. Avg w/o 2 lowest: 11.25\n"
     ]
    }
   ],
   "source": [
    "#wap to ask user to enter 10 scores. \n",
    "#1. Print highest and lowest score\n",
    "#2. Print the average of the score\n",
    "#3. Print the 2nd largest score\n",
    "#4. Any score>100 ......\n",
    "#5. Drop the 2 lowest scores and print average of rest of them.\n",
    "\n",
    "lowest=None\n",
    "highest=None\n",
    "second_lowest=None\n",
    "second_highest=None\n",
    "sum1=0\n",
    "for i in range(1,11):\n",
    "    score=int(input(f\"Enter score {i}: \"))\n",
    "    sum1+=score\n",
    "    if(lowest==None):\n",
    "        lowest=score\n",
    "        second_lowest=score\n",
    "        highest=score\n",
    "        second_highest=score\n",
    "    if(score>highest):\n",
    "        second_highest=highest\n",
    "        highest=score\n",
    "    elif(score<lowest):\n",
    "        second_lowest=lowest\n",
    "        lowest=score\n",
    "\n",
    "print(f\"1. highest: {highest}, lowest: {lowest}\")\n",
    "print(f\"2. average: {sum1/10}\")\n",
    "print(f\"3. 2nd highest: {second_highest}, 2nd lowest: {second_lowest}\")\n",
    "print(f\"4. \")\n",
    "print(f\"5. Avg w/o 2 lowest: {(sum1-lowest-second_lowest)/8}\")"
   ]
  },
  {
   "cell_type": "code",
   "execution_count": 14,
   "metadata": {},
   "outputs": [
    {
     "name": "stdout",
     "output_type": "stream",
     "text": [
      "1 is an Disarium number\n",
      "2 is an Disarium number\n",
      "3 is an Disarium number\n",
      "4 is an Disarium number\n",
      "5 is an Disarium number\n",
      "6 is an Disarium number\n",
      "7 is an Disarium number\n",
      "8 is an Disarium number\n",
      "9 is an Disarium number\n",
      "89 is an Disarium number\n",
      "135 is an Disarium number\n",
      "175 is an Disarium number\n",
      "518 is an Disarium number\n",
      "598 is an Disarium number\n",
      "1306 is an Disarium number\n",
      "1676 is an Disarium number\n",
      "2427 is an Disarium number\n"
     ]
    }
   ],
   "source": [
    "#wap to find Disarium number from 1 to 100000\n",
    "for i in range(1,100000):\n",
    "    temp1=i\n",
    "    temp2=i\n",
    "    sum1=0\n",
    "    digit=0\n",
    "    while(temp1>0):\n",
    "        digit+=1\n",
    "        temp1//=10\n",
    "    while(temp2>0):\n",
    "        sum1=sum1+(temp2%10)**digit\n",
    "        temp2//=10\n",
    "        digit-=1\n",
    "    if(sum1==i):\n",
    "        print(f\"{i} is an Disarium number\")"
   ]
  },
  {
   "cell_type": "code",
   "execution_count": 25,
   "metadata": {},
   "outputs": [
    {
     "name": "stdout",
     "output_type": "stream",
     "text": [
      "Enter num: 4\n",
      "4 is not square free\n"
     ]
    }
   ],
   "source": [
    "#wap to enter a single num and to check if the num is square free or not.\n",
    "# a num is square free if it is not divisible by any perfect square other than 1\n",
    "\n",
    "num=int(input(\"Enter num: \"))\n",
    "for i in range(2,num):\n",
    "    if(num%(i**2)==0):\n",
    "        print(f\"{num} is not square free\")\n",
    "        break\n",
    "else:\n",
    "    print(f\"{num} is square free\")"
   ]
  },
  {
   "cell_type": "code",
   "execution_count": 31,
   "metadata": {},
   "outputs": [
    {
     "name": "stdout",
     "output_type": "stream",
     "text": [
      "Enter how many dollars: 11\n",
      "11.0 $: 0 Q, 1 D, 0 N, 1 P\n"
     ]
    }
   ],
   "source": [
    "#wap to ask dollars and will print out exactly how many quarters, dyn, nickels and pennies are needed\n",
    "#in usd: \n",
    "#    1 quarter = 25 USD\n",
    "#    1 dyn = 10 USD\n",
    "#    1 nickel = 5 USD\n",
    "#    1 penny = 1 USD\n",
    "\n",
    "dollars = float(input(\"Enter how many dollars: \"))\n",
    "quarter=int(dollars/25)\n",
    "dyn=int((dollars-quarter*25)/10)\n",
    "nickel=int((dollars-quarter*25-dyn*10)/5)\n",
    "penny=int((dollars-quarter*25-dyn*10-nickel*5))\n",
    "print(f\"{dollars} $: {quarter} Q, {dyn} D, {nickel} N, {penny} P\")"
   ]
  },
  {
   "cell_type": "code",
   "execution_count": 39,
   "metadata": {},
   "outputs": [
    {
     "name": "stdout",
     "output_type": "stream",
     "text": [
      "(220, 284) is an Amicable pair\n",
      "(284, 220) is an Amicable pair\n"
     ]
    }
   ],
   "source": [
    "#wap to find Amicable numbers pair b/w 1 and 300\n",
    "#the sum of the factors of the number excluding the number itself is equal to the sum of factors of other number excluding the number\n",
    "\n",
    "for i in range(1,301):\n",
    "    sum1=0\n",
    "    for i1 in range(1, (i//2)+1): #to find sum of factors of i\n",
    "        if(i%i1==0):\n",
    "            sum1+=i1\n",
    "    if(i!=sum1): \n",
    "        sum2=0\n",
    "        for j1 in range(1, (sum1//2)+1): #to find sum of factors of j\n",
    "            if(sum1%j1==0):\n",
    "                sum2+=j1\n",
    "        if(sum2==i):\n",
    "            print(f\"({i}, {sum1}) is an Amicable pair\")"
   ]
  },
  {
   "cell_type": "code",
   "execution_count": null,
   "metadata": {},
   "outputs": [],
   "source": []
  }
 ],
 "metadata": {
  "kernelspec": {
   "display_name": "Python 3",
   "language": "python",
   "name": "python3"
  },
  "language_info": {
   "codemirror_mode": {
    "name": "ipython",
    "version": 3
   },
   "file_extension": ".py",
   "mimetype": "text/x-python",
   "name": "python",
   "nbconvert_exporter": "python",
   "pygments_lexer": "ipython3",
   "version": "3.8.5"
  }
 },
 "nbformat": 4,
 "nbformat_minor": 4
}
