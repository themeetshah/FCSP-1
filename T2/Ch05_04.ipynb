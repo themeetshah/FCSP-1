{
 "cells": [
  {
   "cell_type": "markdown",
   "metadata": {},
   "source": [
    "# SET:"
   ]
  },
  {
   "cell_type": "markdown",
   "metadata": {},
   "source": [
    "### -- A set is a mutable unordered collection of items where every element is unique."
   ]
  },
  {
   "cell_type": "markdown",
   "metadata": {},
   "source": [
    "### -- It is helpful in computing set theory operations like union, intersection."
   ]
  },
  {
   "cell_type": "markdown",
   "metadata": {},
   "source": [
    "### -- It can't be indexed nor sliced."
   ]
  },
  {
   "cell_type": "markdown",
   "metadata": {},
   "source": [
    "### -- It can be initialized using keyword \"set\"."
   ]
  },
  {
   "cell_type": "code",
   "execution_count": 2,
   "metadata": {},
   "outputs": [
    {
     "name": "stdout",
     "output_type": "stream",
     "text": [
      "{1, 2, 3, 4}\n"
     ]
    }
   ],
   "source": [
    "l=[4,1,1,2,3,3]\n",
    "m=set(l)\n",
    "print(m)"
   ]
  },
  {
   "cell_type": "code",
   "execution_count": 14,
   "metadata": {},
   "outputs": [
    {
     "name": "stdout",
     "output_type": "stream",
     "text": [
      "<class 'dict'>\n",
      "<class 'set'>\n"
     ]
    }
   ],
   "source": [
    "a={}\n",
    "print(type(a))\n",
    "a=set()\n",
    "print(type(a))\n",
    "s={1,2,3}\n",
    "# s[0] #TypeError: set not subscriptable"
   ]
  },
  {
   "cell_type": "code",
   "execution_count": 50,
   "metadata": {},
   "outputs": [
    {
     "name": "stdout",
     "output_type": "stream",
     "text": [
      "{1, 2, 3, 5}\n",
      "{1, 2, 3, 5, 9}\n",
      "{1, 2, 3, '5', 5, 9, '2'}\n",
      "{1, 2, 3, '5', 5, 9, 10, 12, 13, 212, 21, '2', 22}\n",
      "{1, 2, 3, '5', 5, 9, 10, 12, 13, '8', 212, 21, '2', 22}\n"
     ]
    }
   ],
   "source": [
    "#add\n",
    "s={1,2,3}\n",
    "s.add(5)\n",
    "print(s)\n",
    "s.update([2,2,3,2,9])\n",
    "print(s)\n",
    "s.update([\"2\",\"5\"])\n",
    "print(s)\n",
    "s.update([21,22],[13,12],{9,10,212})\n",
    "print(s)\n",
    "# s.update(111,122) #typeError\n",
    "# s.update(111) #typeError\n",
    "# s.update((111)) #typeError\n",
    "s.update(\"888\")\n",
    "print(s)"
   ]
  },
  {
   "cell_type": "code",
   "execution_count": 30,
   "metadata": {},
   "outputs": [
    {
     "name": "stdout",
     "output_type": "stream",
     "text": [
      "{1, 2, 3, 5, 9, '20', '50'}\n",
      "{1, 2, 3, 5, 9, '20'}\n",
      "{1, 2, 3, 5, 9, '20'}\n",
      "{1, 2, 3, 5, 9}\n"
     ]
    }
   ],
   "source": [
    "#remove\n",
    "s={1, 2, 3, '50', 5, 9, '20'}\n",
    "s.discard(50)\n",
    "print(s)\n",
    "s.discard(\"50\")\n",
    "print(s)\n",
    "# s.remove(20) #KeyError\n",
    "print(s)\n",
    "s.discard(\"20\")\n",
    "print(s)"
   ]
  },
  {
   "cell_type": "code",
   "execution_count": 34,
   "metadata": {},
   "outputs": [
    {
     "name": "stdout",
     "output_type": "stream",
     "text": [
      "{1, 2, 3, 4, 5, 6, 7}\n",
      "{1, 2, 3, 4, 5, 6, 7}\n"
     ]
    }
   ],
   "source": [
    "#union\n",
    "s={1,2,3,4,5}\n",
    "t={4,5,6,7}\n",
    "print(s.union(t))\n",
    "print(s|t)"
   ]
  },
  {
   "cell_type": "code",
   "execution_count": 36,
   "metadata": {},
   "outputs": [
    {
     "name": "stdout",
     "output_type": "stream",
     "text": [
      "{4, 5}\n",
      "{4, 5}\n"
     ]
    }
   ],
   "source": [
    "#intersection\n",
    "print(s.intersection(t))\n",
    "print(s&t)"
   ]
  },
  {
   "cell_type": "code",
   "execution_count": 40,
   "metadata": {},
   "outputs": [
    {
     "name": "stdout",
     "output_type": "stream",
     "text": [
      "{1, 2, 3}\n",
      "{6, 7}\n",
      "{1, 2, 3}\n",
      "{6, 7}\n",
      "set()\n",
      "{1, 2, 3, 6, 7}\n"
     ]
    }
   ],
   "source": [
    "#difference\n",
    "print(s-t)\n",
    "print(t-s)\n",
    "print(s.difference(t))\n",
    "print(t.difference(s))\n",
    "print(s.difference(s))"
   ]
  },
  {
   "cell_type": "code",
   "execution_count": 56,
   "metadata": {
    "scrolled": true
   },
   "outputs": [
    {
     "name": "stdout",
     "output_type": "stream",
     "text": [
      "{1, 2, 3, 4, 6, 7, '5', 9, 10, 12, 13, '8', 212, 21, '2', 22}\n",
      "{1, 2, 3, 4, 6, 7, '5', 9, 10, 12, 13, '8', 212, 21, '2', 22}\n",
      "{5, 4, 6, 7}\n"
     ]
    }
   ],
   "source": [
    "#syymetric difference\n",
    "print(s^t)\n",
    "print(s.symmetric_difference(t))\n",
    "print(s^t^s)"
   ]
  },
  {
   "cell_type": "markdown",
   "metadata": {},
   "source": [
    "# Frozen set:"
   ]
  },
  {
   "cell_type": "markdown",
   "metadata": {},
   "source": [
    "### --it is new type of set in which elements can't be changed. hence, immutable."
   ]
  },
  {
   "cell_type": "markdown",
   "metadata": {},
   "source": [
    "### --they can be used as dictionary keys as they are unique and immutable."
   ]
  },
  {
   "cell_type": "markdown",
   "metadata": {},
   "source": [
    "### --doesn't support adding or removing elements."
   ]
  },
  {
   "cell_type": "markdown",
   "metadata": {},
   "source": [
    "### --it is defined by the keyword \"frozenset\"."
   ]
  },
  {
   "cell_type": "code",
   "execution_count": null,
   "metadata": {},
   "outputs": [],
   "source": []
  },
  {
   "cell_type": "markdown",
   "metadata": {},
   "source": [
    "# Lambda Function:"
   ]
  },
  {
   "cell_type": "markdown",
   "metadata": {},
   "source": [
    "### It's an anonymous function. It can take any number of args but has 1 expression."
   ]
  },
  {
   "cell_type": "markdown",
   "metadata": {},
   "source": [
    "### It is not reusable and has no return value."
   ]
  },
  {
   "cell_type": "code",
   "execution_count": 63,
   "metadata": {},
   "outputs": [
    {
     "name": "stdout",
     "output_type": "stream",
     "text": [
      "15\n",
      "odd\n",
      "even\n"
     ]
    }
   ],
   "source": [
    "#syntax func = lambda a,b : a+b\n",
    "a = lambda x,y : x+y\n",
    "print(a(5,10))\n",
    "a = lambda x : \"even\" if x%2==0 else \"odd\"\n",
    "print(a(21))\n",
    "print(a(20))"
   ]
  },
  {
   "cell_type": "code",
   "execution_count": 80,
   "metadata": {},
   "outputs": [
    {
     "name": "stdout",
     "output_type": "stream",
     "text": [
      "[(1, 'a'), (2, 'c'), (3, 'x')]\n"
     ]
    }
   ],
   "source": [
    "d1={1:\"a\",3:\"x\",2:\"c\"}\n",
    "print(sorted(d1.items(), key=lambda x : x[1]))"
   ]
  },
  {
   "cell_type": "code",
   "execution_count": 75,
   "metadata": {},
   "outputs": [
    {
     "data": {
      "text/plain": [
       "[(1, 15), (2, 16), (3, 17), (4, 18)]"
      ]
     },
     "execution_count": 75,
     "metadata": {},
     "output_type": "execute_result"
    }
   ],
   "source": [
    "t=[1,2,3,4]\n",
    "s=[15,16,17,18]\n",
    "list(zip(t,s))"
   ]
  },
  {
   "cell_type": "code",
   "execution_count": 87,
   "metadata": {},
   "outputs": [
    {
     "name": "stdout",
     "output_type": "stream",
     "text": [
      "[2, 4, 6]\n",
      "[2, 4, 6]\n"
     ]
    }
   ],
   "source": [
    "#wap to create a list of even nos using lambda fxn\n",
    "l1=[]\n",
    "l2=[1,2,3,4,5,6]\n",
    "\n",
    "# M1\n",
    "a = lambda x : l1.append(x) if x%2==0 else None\n",
    "for i in l2:\n",
    "    a(i)\n",
    "else:\n",
    "    print(l1)"
   ]
  },
  {
   "cell_type": "markdown",
   "metadata": {},
   "source": [
    "# Filter, Map, Reduce"
   ]
  },
  {
   "cell_type": "markdown",
   "metadata": {},
   "source": [
    "### Map method matches the fxn to the given iterable, converting into a list which returns the desired outcome based on the given fxn."
   ]
  },
  {
   "cell_type": "markdown",
   "metadata": {},
   "source": [
    "### Filter: given an iterable. it will filter the iterable based on the fxn"
   ]
  },
  {
   "cell_type": "code",
   "execution_count": 96,
   "metadata": {},
   "outputs": [
    {
     "name": "stdout",
     "output_type": "stream",
     "text": [
      "[20, 40, 60, 80]\n"
     ]
    }
   ],
   "source": [
    "def double(x):\n",
    "    return 2*x\n",
    "L=[10,20,30,40]\n",
    "L1=list(map(double, L))\n",
    "print(L1)"
   ]
  },
  {
   "cell_type": "code",
   "execution_count": null,
   "metadata": {},
   "outputs": [
    {
     "ename": "",
     "evalue": "",
     "output_type": "error",
     "traceback": [
      "\u001b[1;31mRunning cells with 'Python 3.12.5' requires the ipykernel package.\n",
      "\u001b[1;31mRun the following command to install 'ipykernel' into the Python environment. \n",
      "\u001b[1;31mCommand: 'c:/Users/Meet/AppData/Local/Programs/Python/Python312/python.exe -m pip install ipykernel -U --user --force-reinstall'"
     ]
    }
   ],
   "source": [
    "print(list(filter(lambda x : x**2, l2)))"
   ]
  },
  {
   "cell_type": "code",
   "execution_count": null,
   "metadata": {},
   "outputs": [],
   "source": []
  }
 ],
 "metadata": {
  "kernelspec": {
   "display_name": "Python 3",
   "language": "python",
   "name": "python3"
  },
  "language_info": {
   "codemirror_mode": {
    "name": "ipython",
    "version": 3
   },
   "file_extension": ".py",
   "mimetype": "text/x-python",
   "name": "python",
   "nbconvert_exporter": "python",
   "pygments_lexer": "ipython3",
   "version": "3.12.5"
  }
 },
 "nbformat": 4,
 "nbformat_minor": 4
}
