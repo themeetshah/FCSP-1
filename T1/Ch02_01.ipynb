{
 "cells": [
  {
   "cell_type": "code",
   "execution_count": null,
   "metadata": {},
   "outputs": [],
   "source": [
    "#check even odd\n",
    "num=int(input(\"Hey bro, Enter num: \"))\n",
    "if(num%2==0):\n",
    "    print(f\"{num} is even\")\n",
    "else: \n",
    "    print(f\"{num} is odd\")    "
   ]
  },
  {
   "cell_type": "code",
   "execution_count": null,
   "metadata": {},
   "outputs": [],
   "source": [
    "#find greatest of 3 nums\n",
    "#check even odd\n",
    "a=int(input(\"Hey bro, Enter num1: \"))\n",
    "b=int(input(\"Hey bro, Enter num2: \"))\n",
    "c=int(input(\"Hey bro, Enter num3: \"))\n",
    "if(a>b and a>c):\n",
    "    print(f\"{a} num1 is greatest\")\n",
    "elif(b>a and b>c): \n",
    "    print(f\"{b} num2 is greatest\")\n",
    "else:\n",
    "    print(f\"{c} num3 is greatest\")"
   ]
  },
  {
   "cell_type": "code",
   "execution_count": null,
   "metadata": {},
   "outputs": [],
   "source": [
    "for i in range(1,5):\n",
    "    print(\"for-else\")\n",
    "else:\n",
    "    print(\"else of for\")\n",
    "    \n",
    "count=3\n",
    "while count>2:\n",
    "    print(\"while-else\")\n",
    "    count-=1\n",
    "else:\n",
    "    print(\"else of while\")"
   ]
  },
  {
   "cell_type": "code",
   "execution_count": null,
   "metadata": {},
   "outputs": [],
   "source": [
    "print(range(5))\n",
    "print(list(range(5)))\n",
    "print(list(range(0,5,2)))\n",
    "print(list(range(5,0,2)))\n",
    "print(list(range(5,0,-2)))"
   ]
  },
  {
   "cell_type": "code",
   "execution_count": null,
   "metadata": {},
   "outputs": [],
   "source": [
    "for i in [1,2,3]:\n",
    "    print(\"HI\", end=\"\")\n",
    "    if(i==2):\n",
    "        break\n",
    "else:\n",
    "    print(\"completed\")"
   ]
  },
  {
   "cell_type": "code",
   "execution_count": null,
   "metadata": {},
   "outputs": [],
   "source": [
    "for i in [1,2,3]:\n",
    "    if(i==2):\n",
    "        continue\n",
    "    print(\"HI\", end=\"\")\n",
    "else:\n",
    "    print(\"completed\")"
   ]
  },
  {
   "cell_type": "code",
   "execution_count": null,
   "metadata": {},
   "outputs": [],
   "source": [
    "for i in [1,2,3]:\n",
    "    if(i==2):\n",
    "        pass\n",
    "    print(\"HI\", end=\"\")\n",
    "else:\n",
    "    print(\"completed\")"
   ]
  },
  {
   "cell_type": "code",
   "execution_count": null,
   "metadata": {},
   "outputs": [],
   "source": [
    "print(\"Multiplication table of 5: \")\n",
    "for i in range(1,11):\n",
    "    print(f\"5 * {i} = {5*i}\")"
   ]
  },
  {
   "cell_type": "code",
   "execution_count": null,
   "metadata": {},
   "outputs": [],
   "source": [
    "#wap to take user input of 10 values and print the avg on screen\n",
    "sumation=0\n",
    "for i in range(1,11):\n",
    "    num=int(input(\"Enter num: \"))\n",
    "    sumation+=num\n",
    "else:\n",
    "    print(sumation/10)"
   ]
  },
  {
   "cell_type": "code",
   "execution_count": null,
   "metadata": {},
   "outputs": [],
   "source": [
    "#wap that finds out all integer soln of Pell's eqn x^2 - 2y^2 = 1 for value of x and y between 1 to 100\n",
    "for x in range(1,101):\n",
    "    for y in range(1,101):\n",
    "        if(x**2-2*y**2==1):\n",
    "            print(f\"x:{x}, y:{y}\")"
   ]
  },
  {
   "cell_type": "code",
   "execution_count": 5,
   "metadata": {},
   "outputs": [
    {
     "name": "stdout",
     "output_type": "stream",
     "text": [
      "Enter hour between 1 and 12: 12\n",
      "Enter AM or PM: AM\n",
      "Enter how many hours you want to go ahead: 12\n",
      "12 AM\n"
     ]
    }
   ],
   "source": [
    "#wap that ask user for an hour btw 1 and 12. Ask them to enter AM or PM and ask them how many hours they want to go ahead. \n",
    "#Print after hour with respective AM or PM.\n",
    "hour_before=int(input(\"Enter hour between 1 and 12: \"))\n",
    "suffix=input(\"Enter AM or PM: \")\n",
    "hour_add_on=int(input(\"Enter how many hours you want to go ahead: \"))\n",
    "\n",
    "if(suffix==\"PM\"):\n",
    "    hour_before+=12\n",
    "\n",
    "hour_after=hour_before+hour_add_on\n",
    "h1=hour_after%24\n",
    "\n",
    "if(h1==0):\n",
    "    print(\"12 AM\")\n",
    "elif(h1>12):\n",
    "    print(f\"{h1-12} PM\")\n",
    "elif(h1==12):\n",
    "    print(\"12 PM\")\n",
    "else:\n",
    "    print(f\"{h1} AM\")"
   ]
  },
  {
   "cell_type": "code",
   "execution_count": null,
   "metadata": {},
   "outputs": [],
   "source": []
  }
 ],
 "metadata": {
  "kernelspec": {
   "display_name": "Python 3",
   "language": "python",
   "name": "python3"
  },
  "language_info": {
   "codemirror_mode": {
    "name": "ipython",
    "version": 3
   },
   "file_extension": ".py",
   "mimetype": "text/x-python",
   "name": "python",
   "nbconvert_exporter": "python",
   "pygments_lexer": "ipython3",
   "version": "3.8.5"
  }
 },
 "nbformat": 4,
 "nbformat_minor": 4
}
