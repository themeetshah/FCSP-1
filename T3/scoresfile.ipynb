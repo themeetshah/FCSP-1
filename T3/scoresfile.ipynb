{
 "cells": [
  {
   "cell_type": "markdown",
   "metadata": {},
   "source": [
    "### For this problem, use the file  `scores.txt` -\n",
    "\n",
    "- Find the average of the points scored over all the games in the file.\n",
    "- Pick your favorite team and scan through the file to determine how many games they won and how many games they lost.\n",
    "- Find the team(s) that lost by 30 or more points the most times\n",
    "- Find all the teams that averaged at least 90 points a game.\n"
   ]
  },
  {
   "cell_type": "code",
   "execution_count": null,
   "metadata": {},
   "outputs": [],
   "source": []
  }
 ],
 "metadata": {
  "kernelspec": {
   "display_name": "Python 3",
   "language": "python",
   "name": "python3"
  },
  "language_info": {
   "codemirror_mode": {
    "name": "ipython",
    "version": 3
   },
   "file_extension": ".py",
   "mimetype": "text/x-python",
   "name": "python",
   "nbconvert_exporter": "python",
   "pygments_lexer": "ipython3",
   "version": "3.8.5"
  }
 },
 "nbformat": 4,
 "nbformat_minor": 4
}
