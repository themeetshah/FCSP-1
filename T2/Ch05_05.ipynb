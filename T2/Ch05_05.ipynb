{
 "cells": [
  {
   "cell_type": "code",
   "execution_count": 7,
   "metadata": {},
   "outputs": [
    {
     "name": "stdout",
     "output_type": "stream",
     "text": [
      "10\n",
      "-3\n"
     ]
    }
   ],
   "source": [
    "#wap to find the sum of nigga nums, +ve nums sep. using filter and lambbda\n",
    "L=[-1,-2,0,1,2,3,4]\n",
    "print(sum(list(filter(lambda x : x if x>=0 else None, L))))\n",
    "print(sum(list(filter(lambda x : x if x<0 else None, L))))"
   ]
  },
  {
   "cell_type": "code",
   "execution_count": 84,
   "metadata": {},
   "outputs": [
    {
     "name": "stdout",
     "output_type": "stream",
     "text": [
      "enter msg: sr sgeemsectea\n",
      "enter groups: 3\n",
      "encrypt(1) or decrypt(2): 2\n",
      "['sr sg', 'eemse', 'ctea']\n",
      "sr sg"
     ]
    }
   ],
   "source": [
    "#PB469 aka 460\n",
    "mess=input(\"enter msg: \")\n",
    "key=int(input(\"enter groups: \"))\n",
    "what=int(input(\"encrypt(1) or decrypt(2): \"))\n",
    "\n",
    "def encrypt():\n",
    "    encrypted=[]\n",
    "    for i in range(key):\n",
    "        encrypted.append(mess[i::key])\n",
    "    for i in range(len(encrypted)):\n",
    "        print(encrypted[i][:],end=\"\")\n",
    "        \n",
    "def decrypt():\n",
    "    decrypted=[]\n",
    "    grps=[]\n",
    "    for i in range(key):\n",
    "        grps.append(mess[(i*(key+1))+i:(i*(key+1))+(len(mess)//key)+1+i:])\n",
    "    \n",
    "    index_i=0\n",
    "    while:\n",
    "        index_j=0\n",
    "        for j in grps[index_j]:\n",
    "            if index_i<len(j):\n",
    "                print(j[index_i], end=\"\")\n",
    "            index_j+=1\n",
    "        else:\n",
    "            index_i+=1\n",
    "    \n",
    "encrypt() if what==1 else decrypt()"
   ]
  },
  {
   "cell_type": "code",
   "execution_count": 54,
   "metadata": {},
   "outputs": [
    {
     "name": "stdout",
     "output_type": "stream",
     "text": [
      "1\n"
     ]
    }
   ],
   "source": [
    "#given an array of +ve int.\n",
    "# let s be sum of digits of minimal element of A\n",
    "# return 0 if s is odd otherwise return 1\n",
    "arr=[37,28,45,77,23,13]\n",
    "sum1=0\n",
    "min_ele=str(min(arr))\n",
    "for i in min_ele:\n",
    "    sum1+=int(i)\n",
    "print(\"0\" if sum1%2!=0 else \"1\")"
   ]
  },
  {
   "cell_type": "code",
   "execution_count": 82,
   "metadata": {},
   "outputs": [
    {
     "name": "stdout",
     "output_type": "stream",
     "text": [
      "6\n"
     ]
    }
   ],
   "source": [
    "#given a string s\n",
    "# return len of longest substring b/w two equal char\n",
    "s=\"abcaadaacd\"\n",
    "longest=0\n",
    "for i in range(len(s)):\n",
    "    for j in range(i+1,len(s)):\n",
    "        if s[i]==s[j]:\n",
    "            if j-i-1>longest:\n",
    "                longest=j-i-1\n",
    "print(longest)"
   ]
  },
  {
   "cell_type": "code",
   "execution_count": 102,
   "metadata": {},
   "outputs": [
    {
     "name": "stdout",
     "output_type": "stream",
     "text": [
      "[0, 1, 1, 4, 4]\n"
     ]
    }
   ],
   "source": [
    "#wap to sort the squares of the given nos in a list\n",
    "l1=[-2,-1,0,1,2]\n",
    "print(sorted(list(map(lambda x : x**2, l1))))"
   ]
  },
  {
   "cell_type": "code",
   "execution_count": 113,
   "metadata": {},
   "outputs": [
    {
     "name": "stdout",
     "output_type": "stream",
     "text": [
      "u\n"
     ]
    }
   ],
   "source": [
    "#wap to find a min window in given str which contains all characters of another given string\n",
    "str1=\"prwsaoeriusfr\"\n",
    "str2=\"osu\"\n",
    "length=None\n",
    "index_1=None\n",
    "index_2=None\n",
    "for j in range(len(str1)):\n",
    "    for i in range(j,len(str1)):\n",
    "        if str1[i] in str2:\n",
    "            if index_1!=None:\n",
    "                index_2=i\n",
    "            else:\n",
    "                index_1=i\n",
    "            if index_2!=None:\n",
    "                str3=str1[index_1:index_2]\n",
    "                if all(str2 in x for x in str3):\n",
    "                    if length==None:\n",
    "                        length=len(str3)\n",
    "                    elif length>len(str3):\n",
    "                        length=str3\n",
    "                index_1=None\n",
    "                index_2=None\n",
    "print(str3)"
   ]
  },
  {
   "cell_type": "code",
   "execution_count": 117,
   "metadata": {},
   "outputs": [
    {
     "name": "stdout",
     "output_type": "stream",
     "text": [
      "{'s': [3, 10], 'o': [5], 'u': [9]}\n"
     ]
    }
   ],
   "source": [
    "#wap to find a min window in given str which contains all characters of another given string\n",
    "str1=\"prwsaoeriusfr\"\n",
    "str2=\"osu\"\n",
    "index={}\n",
    "for i in range(len(str1)):\n",
    "    if str1[i] in str2:\n",
    "        if str1[i] in index:\n",
    "            index[str1[i]].append(i)\n",
    "        else:\n",
    "            index[str1[i]]=[i]\n",
    "print(index)\n",
    "length=[]\n",
    "min_index=[]\n",
    "for i in index:\n",
    "    length.append()"
   ]
  },
  {
   "cell_type": "code",
   "execution_count": null,
   "metadata": {},
   "outputs": [],
   "source": []
  }
 ],
 "metadata": {
  "kernelspec": {
   "display_name": "Python 3",
   "language": "python",
   "name": "python3"
  },
  "language_info": {
   "codemirror_mode": {
    "name": "ipython",
    "version": 3
   },
   "file_extension": ".py",
   "mimetype": "text/x-python",
   "name": "python",
   "nbconvert_exporter": "python",
   "pygments_lexer": "ipython3",
   "version": "3.8.5"
  }
 },
 "nbformat": 4,
 "nbformat_minor": 4
}
